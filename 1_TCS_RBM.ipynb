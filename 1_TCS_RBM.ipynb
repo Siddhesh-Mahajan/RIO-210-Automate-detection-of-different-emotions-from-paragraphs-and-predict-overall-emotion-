{
  "nbformat": 4,
  "nbformat_minor": 0,
  "metadata": {
    "kernelspec": {
      "display_name": "Python 3",
      "language": "python",
      "name": "python3"
    },
    "language_info": {
      "codemirror_mode": {
        "name": "ipython",
        "version": 3
      },
      "file_extension": ".py",
      "mimetype": "text/x-python",
      "name": "python",
      "nbconvert_exporter": "python",
      "pygments_lexer": "ipython3",
      "version": "3.6.9"
    },
    "toc": {
      "base_numbering": 1,
      "nav_menu": {},
      "number_sections": true,
      "sideBar": true,
      "skip_h1_title": false,
      "title_cell": "Table of Contents",
      "title_sidebar": "Contents",
      "toc_cell": false,
      "toc_position": {},
      "toc_section_display": true,
      "toc_window_display": true
    },
    "varInspector": {
      "cols": {
        "lenName": 16,
        "lenType": 16,
        "lenVar": 40
      },
      "kernels_config": {
        "python": {
          "delete_cmd_postfix": "",
          "delete_cmd_prefix": "del ",
          "library": "var_list.py",
          "varRefreshCmd": "print(var_dic_list())"
        },
        "r": {
          "delete_cmd_postfix": ") ",
          "delete_cmd_prefix": "rm(",
          "library": "var_list.r",
          "varRefreshCmd": "cat(var_dic_list()) "
        }
      },
      "types_to_exclude": [
        "module",
        "function",
        "builtin_function_or_method",
        "instance",
        "_Feature"
      ],
      "window_display": false
    },
    "colab": {
      "name": "1_TCS_RBM.ipynb",
      "provenance": [],
      "collapsed_sections": [
        "XOw4HxhUW60b"
      ]
    },
    "widgets": {
      "application/vnd.jupyter.widget-state+json": {
        "551ba1a1bc474304952f5e77644abc08": {
          "model_module": "@jupyter-widgets/controls",
          "model_name": "HBoxModel",
          "state": {
            "_view_name": "HBoxView",
            "_dom_classes": [],
            "_model_name": "HBoxModel",
            "_view_module": "@jupyter-widgets/controls",
            "_model_module_version": "1.5.0",
            "_view_count": null,
            "_view_module_version": "1.5.0",
            "box_style": "",
            "layout": "IPY_MODEL_342a0e189f7c434b92813903105bf455",
            "_model_module": "@jupyter-widgets/controls",
            "children": [
              "IPY_MODEL_cc6e64c200a4437fa16db33d4c484ead",
              "IPY_MODEL_2f6c2a99fd86429a90fc561be99f71e8"
            ]
          }
        },
        "342a0e189f7c434b92813903105bf455": {
          "model_module": "@jupyter-widgets/base",
          "model_name": "LayoutModel",
          "state": {
            "_view_name": "LayoutView",
            "grid_template_rows": null,
            "right": null,
            "justify_content": null,
            "_view_module": "@jupyter-widgets/base",
            "overflow": null,
            "_model_module_version": "1.2.0",
            "_view_count": null,
            "flex_flow": null,
            "width": null,
            "min_width": null,
            "border": null,
            "align_items": null,
            "bottom": null,
            "_model_module": "@jupyter-widgets/base",
            "top": null,
            "grid_column": null,
            "overflow_y": null,
            "overflow_x": null,
            "grid_auto_flow": null,
            "grid_area": null,
            "grid_template_columns": null,
            "flex": null,
            "_model_name": "LayoutModel",
            "justify_items": null,
            "grid_row": null,
            "max_height": null,
            "align_content": null,
            "visibility": null,
            "align_self": null,
            "height": null,
            "min_height": null,
            "padding": null,
            "grid_auto_rows": null,
            "grid_gap": null,
            "max_width": null,
            "order": null,
            "_view_module_version": "1.2.0",
            "grid_template_areas": null,
            "object_position": null,
            "object_fit": null,
            "grid_auto_columns": null,
            "margin": null,
            "display": null,
            "left": null
          }
        },
        "cc6e64c200a4437fa16db33d4c484ead": {
          "model_module": "@jupyter-widgets/controls",
          "model_name": "FloatProgressModel",
          "state": {
            "_view_name": "ProgressView",
            "style": "IPY_MODEL_84a0d3ac272245e3b75003b68360e8fe",
            "_dom_classes": [],
            "description": "100%",
            "_model_name": "FloatProgressModel",
            "bar_style": "success",
            "max": 27581,
            "_view_module": "@jupyter-widgets/controls",
            "_model_module_version": "1.5.0",
            "value": 27581,
            "_view_count": null,
            "_view_module_version": "1.5.0",
            "orientation": "horizontal",
            "min": 0,
            "description_tooltip": null,
            "_model_module": "@jupyter-widgets/controls",
            "layout": "IPY_MODEL_45e842a5b0ec410683682ca99e92096e"
          }
        },
        "2f6c2a99fd86429a90fc561be99f71e8": {
          "model_module": "@jupyter-widgets/controls",
          "model_name": "HTMLModel",
          "state": {
            "_view_name": "HTMLView",
            "style": "IPY_MODEL_e5bf628da5b94002a208616ca4db7e1c",
            "_dom_classes": [],
            "description": "",
            "_model_name": "HTMLModel",
            "placeholder": "​",
            "_view_module": "@jupyter-widgets/controls",
            "_model_module_version": "1.5.0",
            "value": " 27581/27581 [00:01&lt;00:00, 26243.50it/s]",
            "_view_count": null,
            "_view_module_version": "1.5.0",
            "description_tooltip": null,
            "_model_module": "@jupyter-widgets/controls",
            "layout": "IPY_MODEL_80d4f2b4558f4ee3b050d0b55116b2ec"
          }
        },
        "84a0d3ac272245e3b75003b68360e8fe": {
          "model_module": "@jupyter-widgets/controls",
          "model_name": "ProgressStyleModel",
          "state": {
            "_view_name": "StyleView",
            "_model_name": "ProgressStyleModel",
            "description_width": "initial",
            "_view_module": "@jupyter-widgets/base",
            "_model_module_version": "1.5.0",
            "_view_count": null,
            "_view_module_version": "1.2.0",
            "bar_color": null,
            "_model_module": "@jupyter-widgets/controls"
          }
        },
        "45e842a5b0ec410683682ca99e92096e": {
          "model_module": "@jupyter-widgets/base",
          "model_name": "LayoutModel",
          "state": {
            "_view_name": "LayoutView",
            "grid_template_rows": null,
            "right": null,
            "justify_content": null,
            "_view_module": "@jupyter-widgets/base",
            "overflow": null,
            "_model_module_version": "1.2.0",
            "_view_count": null,
            "flex_flow": null,
            "width": null,
            "min_width": null,
            "border": null,
            "align_items": null,
            "bottom": null,
            "_model_module": "@jupyter-widgets/base",
            "top": null,
            "grid_column": null,
            "overflow_y": null,
            "overflow_x": null,
            "grid_auto_flow": null,
            "grid_area": null,
            "grid_template_columns": null,
            "flex": null,
            "_model_name": "LayoutModel",
            "justify_items": null,
            "grid_row": null,
            "max_height": null,
            "align_content": null,
            "visibility": null,
            "align_self": null,
            "height": null,
            "min_height": null,
            "padding": null,
            "grid_auto_rows": null,
            "grid_gap": null,
            "max_width": null,
            "order": null,
            "_view_module_version": "1.2.0",
            "grid_template_areas": null,
            "object_position": null,
            "object_fit": null,
            "grid_auto_columns": null,
            "margin": null,
            "display": null,
            "left": null
          }
        },
        "e5bf628da5b94002a208616ca4db7e1c": {
          "model_module": "@jupyter-widgets/controls",
          "model_name": "DescriptionStyleModel",
          "state": {
            "_view_name": "StyleView",
            "_model_name": "DescriptionStyleModel",
            "description_width": "",
            "_view_module": "@jupyter-widgets/base",
            "_model_module_version": "1.5.0",
            "_view_count": null,
            "_view_module_version": "1.2.0",
            "_model_module": "@jupyter-widgets/controls"
          }
        },
        "80d4f2b4558f4ee3b050d0b55116b2ec": {
          "model_module": "@jupyter-widgets/base",
          "model_name": "LayoutModel",
          "state": {
            "_view_name": "LayoutView",
            "grid_template_rows": null,
            "right": null,
            "justify_content": null,
            "_view_module": "@jupyter-widgets/base",
            "overflow": null,
            "_model_module_version": "1.2.0",
            "_view_count": null,
            "flex_flow": null,
            "width": null,
            "min_width": null,
            "border": null,
            "align_items": null,
            "bottom": null,
            "_model_module": "@jupyter-widgets/base",
            "top": null,
            "grid_column": null,
            "overflow_y": null,
            "overflow_x": null,
            "grid_auto_flow": null,
            "grid_area": null,
            "grid_template_columns": null,
            "flex": null,
            "_model_name": "LayoutModel",
            "justify_items": null,
            "grid_row": null,
            "max_height": null,
            "align_content": null,
            "visibility": null,
            "align_self": null,
            "height": null,
            "min_height": null,
            "padding": null,
            "grid_auto_rows": null,
            "grid_gap": null,
            "max_width": null,
            "order": null,
            "_view_module_version": "1.2.0",
            "grid_template_areas": null,
            "object_position": null,
            "object_fit": null,
            "grid_auto_columns": null,
            "margin": null,
            "display": null,
            "left": null
          }
        },
        "f009e696bd9244e6aa7ead45835b1052": {
          "model_module": "@jupyter-widgets/controls",
          "model_name": "HBoxModel",
          "state": {
            "_view_name": "HBoxView",
            "_dom_classes": [],
            "_model_name": "HBoxModel",
            "_view_module": "@jupyter-widgets/controls",
            "_model_module_version": "1.5.0",
            "_view_count": null,
            "_view_module_version": "1.5.0",
            "box_style": "",
            "layout": "IPY_MODEL_9878e4ac214f46df80f83d3b2d0a042a",
            "_model_module": "@jupyter-widgets/controls",
            "children": [
              "IPY_MODEL_cd0d903c74e04797802512b099e20878",
              "IPY_MODEL_ce203baa8cab44eda91cec0d1110db12"
            ]
          }
        },
        "9878e4ac214f46df80f83d3b2d0a042a": {
          "model_module": "@jupyter-widgets/base",
          "model_name": "LayoutModel",
          "state": {
            "_view_name": "LayoutView",
            "grid_template_rows": null,
            "right": null,
            "justify_content": null,
            "_view_module": "@jupyter-widgets/base",
            "overflow": null,
            "_model_module_version": "1.2.0",
            "_view_count": null,
            "flex_flow": null,
            "width": null,
            "min_width": null,
            "border": null,
            "align_items": null,
            "bottom": null,
            "_model_module": "@jupyter-widgets/base",
            "top": null,
            "grid_column": null,
            "overflow_y": null,
            "overflow_x": null,
            "grid_auto_flow": null,
            "grid_area": null,
            "grid_template_columns": null,
            "flex": null,
            "_model_name": "LayoutModel",
            "justify_items": null,
            "grid_row": null,
            "max_height": null,
            "align_content": null,
            "visibility": null,
            "align_self": null,
            "height": null,
            "min_height": null,
            "padding": null,
            "grid_auto_rows": null,
            "grid_gap": null,
            "max_width": null,
            "order": null,
            "_view_module_version": "1.2.0",
            "grid_template_areas": null,
            "object_position": null,
            "object_fit": null,
            "grid_auto_columns": null,
            "margin": null,
            "display": null,
            "left": null
          }
        },
        "cd0d903c74e04797802512b099e20878": {
          "model_module": "@jupyter-widgets/controls",
          "model_name": "FloatProgressModel",
          "state": {
            "_view_name": "ProgressView",
            "style": "IPY_MODEL_29250f8eb70c4453948d3ec761335094",
            "_dom_classes": [],
            "description": "100%",
            "_model_name": "FloatProgressModel",
            "bar_style": "success",
            "max": 27581,
            "_view_module": "@jupyter-widgets/controls",
            "_model_module_version": "1.5.0",
            "value": 27581,
            "_view_count": null,
            "_view_module_version": "1.5.0",
            "orientation": "horizontal",
            "min": 0,
            "description_tooltip": null,
            "_model_module": "@jupyter-widgets/controls",
            "layout": "IPY_MODEL_8d4089e2707841fbb4988269eb0283f9"
          }
        },
        "ce203baa8cab44eda91cec0d1110db12": {
          "model_module": "@jupyter-widgets/controls",
          "model_name": "HTMLModel",
          "state": {
            "_view_name": "HTMLView",
            "style": "IPY_MODEL_87c49105ca7844e094bda237662c600a",
            "_dom_classes": [],
            "description": "",
            "_model_name": "HTMLModel",
            "placeholder": "​",
            "_view_module": "@jupyter-widgets/controls",
            "_model_module_version": "1.5.0",
            "value": " 27581/27581 [00:57&lt;00:00, 477.05it/s]",
            "_view_count": null,
            "_view_module_version": "1.5.0",
            "description_tooltip": null,
            "_model_module": "@jupyter-widgets/controls",
            "layout": "IPY_MODEL_c2dcccd2d3b04ee5858b2a8193fc5431"
          }
        },
        "29250f8eb70c4453948d3ec761335094": {
          "model_module": "@jupyter-widgets/controls",
          "model_name": "ProgressStyleModel",
          "state": {
            "_view_name": "StyleView",
            "_model_name": "ProgressStyleModel",
            "description_width": "initial",
            "_view_module": "@jupyter-widgets/base",
            "_model_module_version": "1.5.0",
            "_view_count": null,
            "_view_module_version": "1.2.0",
            "bar_color": null,
            "_model_module": "@jupyter-widgets/controls"
          }
        },
        "8d4089e2707841fbb4988269eb0283f9": {
          "model_module": "@jupyter-widgets/base",
          "model_name": "LayoutModel",
          "state": {
            "_view_name": "LayoutView",
            "grid_template_rows": null,
            "right": null,
            "justify_content": null,
            "_view_module": "@jupyter-widgets/base",
            "overflow": null,
            "_model_module_version": "1.2.0",
            "_view_count": null,
            "flex_flow": null,
            "width": null,
            "min_width": null,
            "border": null,
            "align_items": null,
            "bottom": null,
            "_model_module": "@jupyter-widgets/base",
            "top": null,
            "grid_column": null,
            "overflow_y": null,
            "overflow_x": null,
            "grid_auto_flow": null,
            "grid_area": null,
            "grid_template_columns": null,
            "flex": null,
            "_model_name": "LayoutModel",
            "justify_items": null,
            "grid_row": null,
            "max_height": null,
            "align_content": null,
            "visibility": null,
            "align_self": null,
            "height": null,
            "min_height": null,
            "padding": null,
            "grid_auto_rows": null,
            "grid_gap": null,
            "max_width": null,
            "order": null,
            "_view_module_version": "1.2.0",
            "grid_template_areas": null,
            "object_position": null,
            "object_fit": null,
            "grid_auto_columns": null,
            "margin": null,
            "display": null,
            "left": null
          }
        },
        "87c49105ca7844e094bda237662c600a": {
          "model_module": "@jupyter-widgets/controls",
          "model_name": "DescriptionStyleModel",
          "state": {
            "_view_name": "StyleView",
            "_model_name": "DescriptionStyleModel",
            "description_width": "",
            "_view_module": "@jupyter-widgets/base",
            "_model_module_version": "1.5.0",
            "_view_count": null,
            "_view_module_version": "1.2.0",
            "_model_module": "@jupyter-widgets/controls"
          }
        },
        "c2dcccd2d3b04ee5858b2a8193fc5431": {
          "model_module": "@jupyter-widgets/base",
          "model_name": "LayoutModel",
          "state": {
            "_view_name": "LayoutView",
            "grid_template_rows": null,
            "right": null,
            "justify_content": null,
            "_view_module": "@jupyter-widgets/base",
            "overflow": null,
            "_model_module_version": "1.2.0",
            "_view_count": null,
            "flex_flow": null,
            "width": null,
            "min_width": null,
            "border": null,
            "align_items": null,
            "bottom": null,
            "_model_module": "@jupyter-widgets/base",
            "top": null,
            "grid_column": null,
            "overflow_y": null,
            "overflow_x": null,
            "grid_auto_flow": null,
            "grid_area": null,
            "grid_template_columns": null,
            "flex": null,
            "_model_name": "LayoutModel",
            "justify_items": null,
            "grid_row": null,
            "max_height": null,
            "align_content": null,
            "visibility": null,
            "align_self": null,
            "height": null,
            "min_height": null,
            "padding": null,
            "grid_auto_rows": null,
            "grid_gap": null,
            "max_width": null,
            "order": null,
            "_view_module_version": "1.2.0",
            "grid_template_areas": null,
            "object_position": null,
            "object_fit": null,
            "grid_auto_columns": null,
            "margin": null,
            "display": null,
            "left": null
          }
        }
      }
    }
  },
  "cells": [
    {
      "cell_type": "markdown",
      "metadata": {
        "id": "oqAWttxWjczh"
      },
      "source": [
        "###**RULE-BASED MODEL**"
      ]
    },
    {
      "cell_type": "code",
      "metadata": {
        "id": "3jhbP2vBYY1x",
        "colab": {
          "base_uri": "https://localhost:8080/"
        },
        "outputId": "d3d9e4ff-d2c3-49b0-be41-554acdb7bc9b"
      },
      "source": [
        "from google.colab import drive\n",
        "drive.mount('/content/drive')"
      ],
      "execution_count": 1,
      "outputs": [
        {
          "output_type": "stream",
          "text": [
            "Drive already mounted at /content/drive; to attempt to forcibly remount, call drive.mount(\"/content/drive\", force_remount=True).\n"
          ],
          "name": "stdout"
        }
      ]
    },
    {
      "cell_type": "code",
      "metadata": {
        "id": "09VcrUx4YgAg",
        "colab": {
          "base_uri": "https://localhost:8080/"
        },
        "outputId": "46cc4ac1-2e21-46f6-e458-21e87609d603"
      },
      "source": [
        "cd /content/drive/MyDrive/Resources"
      ],
      "execution_count": 2,
      "outputs": [
        {
          "output_type": "stream",
          "text": [
            "/content/drive/MyDrive/Resources\n"
          ],
          "name": "stdout"
        }
      ]
    },
    {
      "cell_type": "markdown",
      "metadata": {
        "id": "NPhKTKMJ-_NV"
      },
      "source": [
        "### Importing Libraries"
      ]
    },
    {
      "cell_type": "code",
      "metadata": {
        "ExecuteTime": {
          "end_time": "2020-07-05T17:49:45.582969Z",
          "start_time": "2020-07-05T17:49:44.700518Z"
        },
        "scrolled": true,
        "id": "HxRf8ek_W6za",
        "colab": {
          "base_uri": "https://localhost:8080/"
        },
        "outputId": "10c1770f-e202-4c4d-f9a3-f02e5b534c33"
      },
      "source": [
        "import pandas as pd\n",
        "import numpy as np\n",
        " \n",
        "import nltk                           # natural language toolkit\n",
        "from nltk.corpus import stopwords     #A stop list is a list of words that are excluded from some language processing task, usually because they are viewed as non--informative or potentially misleading. Usually they are non--content words like conjunctions, determiners, prepositions, etc.\n",
        "\n",
        "\n",
        "from tqdm._tqdm_notebook import tqdm_notebook\n",
        "tqdm_notebook.pandas()                          #for progress-bar of loops\n",
        "from gensim.models import FastText              # taking account of morphological structure(in depth suffix,prefix..) of a word carries important information about the meaning of the word.\n",
        "\n",
        "\n",
        "from contractions import contraction_map          \n",
        "import string,re\n",
        "\n",
        "from nltk.stem import WordNetLemmatizer            # for linking words with similar meanings together eg. good and better, rocks and rock it takes pos  parameter, if not supplied, the default is “noun.”\n",
        "\n",
        "import seaborn as sns                             # better plotting in py\n",
        "import matplotlib.pyplot as plt                    # basic plotting in py\n",
        "\n",
        "nltk.download('stopwords')\n",
        "nltk.download('wordnet')"
      ],
      "execution_count": 3,
      "outputs": [
        {
          "output_type": "stream",
          "text": [
            "/usr/local/lib/python3.7/dist-packages/ipykernel_launcher.py:8: TqdmDeprecationWarning: This function will be removed in tqdm==5.0.0\n",
            "Please use `tqdm.notebook.*` instead of `tqdm._tqdm_notebook.*`\n",
            "  \n",
            "/usr/local/lib/python3.7/dist-packages/tqdm/std.py:658: FutureWarning: The Panel class is removed from pandas. Accessing it from the top-level namespace will also be removed in the next version\n",
            "  from pandas import Panel\n"
          ],
          "name": "stderr"
        },
        {
          "output_type": "stream",
          "text": [
            "[nltk_data] Downloading package stopwords to /root/nltk_data...\n",
            "[nltk_data]   Package stopwords is already up-to-date!\n",
            "[nltk_data] Downloading package wordnet to /root/nltk_data...\n",
            "[nltk_data]   Package wordnet is already up-to-date!\n"
          ],
          "name": "stdout"
        },
        {
          "output_type": "execute_result",
          "data": {
            "text/plain": [
              "True"
            ]
          },
          "metadata": {
            "tags": []
          },
          "execution_count": 3
        }
      ]
    },
    {
      "cell_type": "code",
      "metadata": {
        "scrolled": true,
        "id": "0cKSHlC-W6zi"
      },
      "source": [
        "data = pd.read_csv('/content/drive/MyDrive/Resources/text_emotion.csv')         # importing dataset"
      ],
      "execution_count": 4,
      "outputs": []
    },
    {
      "cell_type": "markdown",
      "metadata": {
        "id": "eonRgx76edoF"
      },
      "source": [
        "### Data Preprocessing"
      ]
    },
    {
      "cell_type": "code",
      "metadata": {
        "cell_style": "split",
        "scrolled": false,
        "id": "N8hCb2TyW6zk",
        "colab": {
          "base_uri": "https://localhost:8080/",
          "height": 204
        },
        "outputId": "32848dd6-b1ba-4148-b1b9-2aff964f6fd6"
      },
      "source": [
        "data.head()"
      ],
      "execution_count": 5,
      "outputs": [
        {
          "output_type": "execute_result",
          "data": {
            "text/html": [
              "<div>\n",
              "<style scoped>\n",
              "    .dataframe tbody tr th:only-of-type {\n",
              "        vertical-align: middle;\n",
              "    }\n",
              "\n",
              "    .dataframe tbody tr th {\n",
              "        vertical-align: top;\n",
              "    }\n",
              "\n",
              "    .dataframe thead th {\n",
              "        text-align: right;\n",
              "    }\n",
              "</style>\n",
              "<table border=\"1\" class=\"dataframe\">\n",
              "  <thead>\n",
              "    <tr style=\"text-align: right;\">\n",
              "      <th></th>\n",
              "      <th>tweet_id</th>\n",
              "      <th>sentiment</th>\n",
              "      <th>author</th>\n",
              "      <th>content</th>\n",
              "    </tr>\n",
              "  </thead>\n",
              "  <tbody>\n",
              "    <tr>\n",
              "      <th>0</th>\n",
              "      <td>1956967341</td>\n",
              "      <td>empty</td>\n",
              "      <td>xoshayzers</td>\n",
              "      <td>@tiffanylue i know  i was listenin to bad habi...</td>\n",
              "    </tr>\n",
              "    <tr>\n",
              "      <th>1</th>\n",
              "      <td>1956967666</td>\n",
              "      <td>sadness</td>\n",
              "      <td>wannamama</td>\n",
              "      <td>Layin n bed with a headache  ughhhh...waitin o...</td>\n",
              "    </tr>\n",
              "    <tr>\n",
              "      <th>2</th>\n",
              "      <td>1956967696</td>\n",
              "      <td>sadness</td>\n",
              "      <td>coolfunky</td>\n",
              "      <td>Funeral ceremony...gloomy friday...</td>\n",
              "    </tr>\n",
              "    <tr>\n",
              "      <th>3</th>\n",
              "      <td>1956967789</td>\n",
              "      <td>enthusiasm</td>\n",
              "      <td>czareaquino</td>\n",
              "      <td>wants to hang out with friends SOON!</td>\n",
              "    </tr>\n",
              "    <tr>\n",
              "      <th>4</th>\n",
              "      <td>1956968416</td>\n",
              "      <td>neutral</td>\n",
              "      <td>xkilljoyx</td>\n",
              "      <td>@dannycastillo We want to trade with someone w...</td>\n",
              "    </tr>\n",
              "  </tbody>\n",
              "</table>\n",
              "</div>"
            ],
            "text/plain": [
              "     tweet_id  ...                                            content\n",
              "0  1956967341  ...  @tiffanylue i know  i was listenin to bad habi...\n",
              "1  1956967666  ...  Layin n bed with a headache  ughhhh...waitin o...\n",
              "2  1956967696  ...                Funeral ceremony...gloomy friday...\n",
              "3  1956967789  ...               wants to hang out with friends SOON!\n",
              "4  1956968416  ...  @dannycastillo We want to trade with someone w...\n",
              "\n",
              "[5 rows x 4 columns]"
            ]
          },
          "metadata": {
            "tags": []
          },
          "execution_count": 5
        }
      ]
    },
    {
      "cell_type": "code",
      "metadata": {
        "scrolled": true,
        "id": "ZoyamQZyW6zp"
      },
      "source": [
        "df = data.copy()     # Modifications to the data or indices of the copy will not be reflected in the original object"
      ],
      "execution_count": 6,
      "outputs": []
    },
    {
      "cell_type": "code",
      "metadata": {
        "cell_style": "split",
        "scrolled": true,
        "id": "pmjCZ3J1W6zn",
        "colab": {
          "base_uri": "https://localhost:8080/"
        },
        "outputId": "8124a59c-ec12-4d64-d907-27558ceb087d"
      },
      "source": [
        "data.sentiment.value_counts()            #returns a series containing counts of unique values"
      ],
      "execution_count": 7,
      "outputs": [
        {
          "output_type": "execute_result",
          "data": {
            "text/plain": [
              "neutral       8638\n",
              "worry         8459\n",
              "happiness     5209\n",
              "sadness       5165\n",
              "love          3842\n",
              "surprise      2187\n",
              "fun           1776\n",
              "relief        1526\n",
              "hate          1323\n",
              "empty          827\n",
              "enthusiasm     759\n",
              "boredom        179\n",
              "anger          110\n",
              "Name: sentiment, dtype: int64"
            ]
          },
          "metadata": {
            "tags": []
          },
          "execution_count": 7
        }
      ]
    },
    {
      "cell_type": "code",
      "metadata": {
        "colab": {
          "base_uri": "https://localhost:8080/",
          "height": 334
        },
        "id": "AQ4E6xaylruS",
        "outputId": "66065f97-563c-4e33-b9a1-2a293991f896"
      },
      "source": [
        "plt.figure(figsize=(12,5))\n",
        "sns.countplot(x='sentiment', data=df)\n",
        "plt.show()"
      ],
      "execution_count": 8,
      "outputs": [
        {
          "output_type": "display_data",
          "data": {
            "image/png": "[encoded data removed]",
            "text/plain": [
              "<Figure size 864x360 with 1 Axes>"
            ]
          },
          "metadata": {
            "tags": [],
            "needs_background": "light"
          }
        }
      ]
    },
    {
      "cell_type": "code",
      "metadata": {
        "id": "XtKPDu25W6zr",
        "colab": {
          "base_uri": "https://localhost:8080/"
        },
        "outputId": "01abfd3a-b189-4686-cad5-12300914d782"
      },
      "source": [
        "df.dtypes"
      ],
      "execution_count": 9,
      "outputs": [
        {
          "output_type": "execute_result",
          "data": {
            "text/plain": [
              "tweet_id      int64\n",
              "sentiment    object\n",
              "author       object\n",
              "content      object\n",
              "dtype: object"
            ]
          },
          "metadata": {
            "tags": []
          },
          "execution_count": 9
        }
      ]
    },
    {
      "cell_type": "code",
      "metadata": {
        "id": "2UwsGmB8W6zt"
      },
      "source": [
        "# Dropping rows with other emotion labels, i.e rounding number of emotions to only 5 basic ones \n",
        "\n",
        "df = df.drop(df[df.sentiment == 'boredom'].index)\n",
        "df = df.drop(df[df.sentiment == 'enthusiasm'].index)\n",
        "df = df.drop(df[df.sentiment == 'empty'].index)\n",
        "df = df.drop(df[df.sentiment == 'fun'].index)\n",
        "df = df.drop(df[df.sentiment == 'relief'].index)\n",
        "df = df.drop(df[df.sentiment == 'surprise'].index)\n",
        "df = df.drop(df[df.sentiment == 'love'].index)\n",
        "df = df.drop(df[df.sentiment == 'hate'].index)"
      ],
      "execution_count": 10,
      "outputs": []
    },
    {
      "cell_type": "code",
      "metadata": {
        "scrolled": true,
        "id": "OK1BOm3UW6zv",
        "colab": {
          "base_uri": "https://localhost:8080/"
        },
        "outputId": "f5eceb35-a437-4ba4-9d64-9b0739f55ff1"
      },
      "source": [
        "df.sentiment.value_counts()                     # count of new values                                           "
      ],
      "execution_count": 11,
      "outputs": [
        {
          "output_type": "execute_result",
          "data": {
            "text/plain": [
              "neutral      8638\n",
              "worry        8459\n",
              "happiness    5209\n",
              "sadness      5165\n",
              "anger         110\n",
              "Name: sentiment, dtype: int64"
            ]
          },
          "metadata": {
            "tags": []
          },
          "execution_count": 11
        }
      ]
    },
    {
      "cell_type": "code",
      "metadata": {
        "scrolled": true,
        "id": "jhPacG4QW6zy",
        "colab": {
          "base_uri": "https://localhost:8080/",
          "height": 419
        },
        "outputId": "ece9ffa9-c655-491f-b90b-ae7f4d45f34c"
      },
      "source": [
        "df"
      ],
      "execution_count": 12,
      "outputs": [
        {
          "output_type": "execute_result",
          "data": {
            "text/html": [
              "<div>\n",
              "<style scoped>\n",
              "    .dataframe tbody tr th:only-of-type {\n",
              "        vertical-align: middle;\n",
              "    }\n",
              "\n",
              "    .dataframe tbody tr th {\n",
              "        vertical-align: top;\n",
              "    }\n",
              "\n",
              "    .dataframe thead th {\n",
              "        text-align: right;\n",
              "    }\n",
              "</style>\n",
              "<table border=\"1\" class=\"dataframe\">\n",
              "  <thead>\n",
              "    <tr style=\"text-align: right;\">\n",
              "      <th></th>\n",
              "      <th>tweet_id</th>\n",
              "      <th>sentiment</th>\n",
              "      <th>author</th>\n",
              "      <th>content</th>\n",
              "    </tr>\n",
              "  </thead>\n",
              "  <tbody>\n",
              "    <tr>\n",
              "      <th>1</th>\n",
              "      <td>1956967666</td>\n",
              "      <td>sadness</td>\n",
              "      <td>wannamama</td>\n",
              "      <td>Layin n bed with a headache  ughhhh...waitin o...</td>\n",
              "    </tr>\n",
              "    <tr>\n",
              "      <th>2</th>\n",
              "      <td>1956967696</td>\n",
              "      <td>sadness</td>\n",
              "      <td>coolfunky</td>\n",
              "      <td>Funeral ceremony...gloomy friday...</td>\n",
              "    </tr>\n",
              "    <tr>\n",
              "      <th>4</th>\n",
              "      <td>1956968416</td>\n",
              "      <td>neutral</td>\n",
              "      <td>xkilljoyx</td>\n",
              "      <td>@dannycastillo We want to trade with someone w...</td>\n",
              "    </tr>\n",
              "    <tr>\n",
              "      <th>5</th>\n",
              "      <td>1956968477</td>\n",
              "      <td>worry</td>\n",
              "      <td>xxxPEACHESxxx</td>\n",
              "      <td>Re-pinging @ghostridah14: why didn't you go to...</td>\n",
              "    </tr>\n",
              "    <tr>\n",
              "      <th>6</th>\n",
              "      <td>1956968487</td>\n",
              "      <td>sadness</td>\n",
              "      <td>ShansBee</td>\n",
              "      <td>I should be sleep, but im not! thinking about ...</td>\n",
              "    </tr>\n",
              "    <tr>\n",
              "      <th>...</th>\n",
              "      <td>...</td>\n",
              "      <td>...</td>\n",
              "      <td>...</td>\n",
              "      <td>...</td>\n",
              "    </tr>\n",
              "    <tr>\n",
              "      <th>39992</th>\n",
              "      <td>1753918881</td>\n",
              "      <td>neutral</td>\n",
              "      <td>_Alectrona_</td>\n",
              "      <td>@jasimmo Ooo showing of your French skills!! l...</td>\n",
              "    </tr>\n",
              "    <tr>\n",
              "      <th>39993</th>\n",
              "      <td>1753918892</td>\n",
              "      <td>neutral</td>\n",
              "      <td>bushidosan</td>\n",
              "      <td>@sendsome2me haha, yeah. Twitter has many uses...</td>\n",
              "    </tr>\n",
              "    <tr>\n",
              "      <th>39994</th>\n",
              "      <td>1753918900</td>\n",
              "      <td>happiness</td>\n",
              "      <td>courtside101</td>\n",
              "      <td>Succesfully following Tayla!!</td>\n",
              "    </tr>\n",
              "    <tr>\n",
              "      <th>39995</th>\n",
              "      <td>1753918954</td>\n",
              "      <td>neutral</td>\n",
              "      <td>showMe_Heaven</td>\n",
              "      <td>@JohnLloydTaylor</td>\n",
              "    </tr>\n",
              "    <tr>\n",
              "      <th>39998</th>\n",
              "      <td>1753919043</td>\n",
              "      <td>happiness</td>\n",
              "      <td>ipdaman1</td>\n",
              "      <td>@niariley WASSUP BEAUTIFUL!!! FOLLOW ME!!  PEE...</td>\n",
              "    </tr>\n",
              "  </tbody>\n",
              "</table>\n",
              "<p>27581 rows × 4 columns</p>\n",
              "</div>"
            ],
            "text/plain": [
              "         tweet_id  ...                                            content\n",
              "1      1956967666  ...  Layin n bed with a headache  ughhhh...waitin o...\n",
              "2      1956967696  ...                Funeral ceremony...gloomy friday...\n",
              "4      1956968416  ...  @dannycastillo We want to trade with someone w...\n",
              "5      1956968477  ...  Re-pinging @ghostridah14: why didn't you go to...\n",
              "6      1956968487  ...  I should be sleep, but im not! thinking about ...\n",
              "...           ...  ...                                                ...\n",
              "39992  1753918881  ...  @jasimmo Ooo showing of your French skills!! l...\n",
              "39993  1753918892  ...  @sendsome2me haha, yeah. Twitter has many uses...\n",
              "39994  1753918900  ...                      Succesfully following Tayla!!\n",
              "39995  1753918954  ...                                   @JohnLloydTaylor\n",
              "39998  1753919043  ...  @niariley WASSUP BEAUTIFUL!!! FOLLOW ME!!  PEE...\n",
              "\n",
              "[27581 rows x 4 columns]"
            ]
          },
          "metadata": {
            "tags": []
          },
          "execution_count": 12
        }
      ]
    },
    {
      "cell_type": "code",
      "metadata": {
        "scrolled": true,
        "id": "Df62udJ-W6z0",
        "colab": {
          "base_uri": "https://localhost:8080/",
          "height": 419
        },
        "outputId": "bf6aa0f9-7afb-4cbe-e1c7-f753c5cf8185"
      },
      "source": [
        "df = df.drop('author',axis=1)          #DImensionality Reduction to remove 'author' feature\n",
        "df"
      ],
      "execution_count": 13,
      "outputs": [
        {
          "output_type": "execute_result",
          "data": {
            "text/html": [
              "<div>\n",
              "<style scoped>\n",
              "    .dataframe tbody tr th:only-of-type {\n",
              "        vertical-align: middle;\n",
              "    }\n",
              "\n",
              "    .dataframe tbody tr th {\n",
              "        vertical-align: top;\n",
              "    }\n",
              "\n",
              "    .dataframe thead th {\n",
              "        text-align: right;\n",
              "    }\n",
              "</style>\n",
              "<table border=\"1\" class=\"dataframe\">\n",
              "  <thead>\n",
              "    <tr style=\"text-align: right;\">\n",
              "      <th></th>\n",
              "      <th>tweet_id</th>\n",
              "      <th>sentiment</th>\n",
              "      <th>content</th>\n",
              "    </tr>\n",
              "  </thead>\n",
              "  <tbody>\n",
              "    <tr>\n",
              "      <th>1</th>\n",
              "      <td>1956967666</td>\n",
              "      <td>sadness</td>\n",
              "      <td>Layin n bed with a headache  ughhhh...waitin o...</td>\n",
              "    </tr>\n",
              "    <tr>\n",
              "      <th>2</th>\n",
              "      <td>1956967696</td>\n",
              "      <td>sadness</td>\n",
              "      <td>Funeral ceremony...gloomy friday...</td>\n",
              "    </tr>\n",
              "    <tr>\n",
              "      <th>4</th>\n",
              "      <td>1956968416</td>\n",
              "      <td>neutral</td>\n",
              "      <td>@dannycastillo We want to trade with someone w...</td>\n",
              "    </tr>\n",
              "    <tr>\n",
              "      <th>5</th>\n",
              "      <td>1956968477</td>\n",
              "      <td>worry</td>\n",
              "      <td>Re-pinging @ghostridah14: why didn't you go to...</td>\n",
              "    </tr>\n",
              "    <tr>\n",
              "      <th>6</th>\n",
              "      <td>1956968487</td>\n",
              "      <td>sadness</td>\n",
              "      <td>I should be sleep, but im not! thinking about ...</td>\n",
              "    </tr>\n",
              "    <tr>\n",
              "      <th>...</th>\n",
              "      <td>...</td>\n",
              "      <td>...</td>\n",
              "      <td>...</td>\n",
              "    </tr>\n",
              "    <tr>\n",
              "      <th>39992</th>\n",
              "      <td>1753918881</td>\n",
              "      <td>neutral</td>\n",
              "      <td>@jasimmo Ooo showing of your French skills!! l...</td>\n",
              "    </tr>\n",
              "    <tr>\n",
              "      <th>39993</th>\n",
              "      <td>1753918892</td>\n",
              "      <td>neutral</td>\n",
              "      <td>@sendsome2me haha, yeah. Twitter has many uses...</td>\n",
              "    </tr>\n",
              "    <tr>\n",
              "      <th>39994</th>\n",
              "      <td>1753918900</td>\n",
              "      <td>happiness</td>\n",
              "      <td>Succesfully following Tayla!!</td>\n",
              "    </tr>\n",
              "    <tr>\n",
              "      <th>39995</th>\n",
              "      <td>1753918954</td>\n",
              "      <td>neutral</td>\n",
              "      <td>@JohnLloydTaylor</td>\n",
              "    </tr>\n",
              "    <tr>\n",
              "      <th>39998</th>\n",
              "      <td>1753919043</td>\n",
              "      <td>happiness</td>\n",
              "      <td>@niariley WASSUP BEAUTIFUL!!! FOLLOW ME!!  PEE...</td>\n",
              "    </tr>\n",
              "  </tbody>\n",
              "</table>\n",
              "<p>27581 rows × 3 columns</p>\n",
              "</div>"
            ],
            "text/plain": [
              "         tweet_id  sentiment                                            content\n",
              "1      1956967666    sadness  Layin n bed with a headache  ughhhh...waitin o...\n",
              "2      1956967696    sadness                Funeral ceremony...gloomy friday...\n",
              "4      1956968416    neutral  @dannycastillo We want to trade with someone w...\n",
              "5      1956968477      worry  Re-pinging @ghostridah14: why didn't you go to...\n",
              "6      1956968487    sadness  I should be sleep, but im not! thinking about ...\n",
              "...           ...        ...                                                ...\n",
              "39992  1753918881    neutral  @jasimmo Ooo showing of your French skills!! l...\n",
              "39993  1753918892    neutral  @sendsome2me haha, yeah. Twitter has many uses...\n",
              "39994  1753918900  happiness                      Succesfully following Tayla!!\n",
              "39995  1753918954    neutral                                   @JohnLloydTaylor\n",
              "39998  1753919043  happiness  @niariley WASSUP BEAUTIFUL!!! FOLLOW ME!!  PEE...\n",
              "\n",
              "[27581 rows x 3 columns]"
            ]
          },
          "metadata": {
            "tags": []
          },
          "execution_count": 13
        }
      ]
    },
    {
      "cell_type": "code",
      "metadata": {
        "id": "obDPwMiBW6z2"
      },
      "source": [
        "df.reset_index(drop=True,inplace=True)            # To reorder new tuples and attributes"
      ],
      "execution_count": 14,
      "outputs": []
    },
    {
      "cell_type": "code",
      "metadata": {
        "scrolled": true,
        "id": "6EMW177HW6z4",
        "colab": {
          "base_uri": "https://localhost:8080/",
          "height": 419
        },
        "outputId": "4244ecbf-85fd-4eed-f564-4279a5ed06e0"
      },
      "source": [
        "df"
      ],
      "execution_count": 15,
      "outputs": [
        {
          "output_type": "execute_result",
          "data": {
            "text/html": [
              "<div>\n",
              "<style scoped>\n",
              "    .dataframe tbody tr th:only-of-type {\n",
              "        vertical-align: middle;\n",
              "    }\n",
              "\n",
              "    .dataframe tbody tr th {\n",
              "        vertical-align: top;\n",
              "    }\n",
              "\n",
              "    .dataframe thead th {\n",
              "        text-align: right;\n",
              "    }\n",
              "</style>\n",
              "<table border=\"1\" class=\"dataframe\">\n",
              "  <thead>\n",
              "    <tr style=\"text-align: right;\">\n",
              "      <th></th>\n",
              "      <th>tweet_id</th>\n",
              "      <th>sentiment</th>\n",
              "      <th>content</th>\n",
              "    </tr>\n",
              "  </thead>\n",
              "  <tbody>\n",
              "    <tr>\n",
              "      <th>0</th>\n",
              "      <td>1956967666</td>\n",
              "      <td>sadness</td>\n",
              "      <td>Layin n bed with a headache  ughhhh...waitin o...</td>\n",
              "    </tr>\n",
              "    <tr>\n",
              "      <th>1</th>\n",
              "      <td>1956967696</td>\n",
              "      <td>sadness</td>\n",
              "      <td>Funeral ceremony...gloomy friday...</td>\n",
              "    </tr>\n",
              "    <tr>\n",
              "      <th>2</th>\n",
              "      <td>1956968416</td>\n",
              "      <td>neutral</td>\n",
              "      <td>@dannycastillo We want to trade with someone w...</td>\n",
              "    </tr>\n",
              "    <tr>\n",
              "      <th>3</th>\n",
              "      <td>1956968477</td>\n",
              "      <td>worry</td>\n",
              "      <td>Re-pinging @ghostridah14: why didn't you go to...</td>\n",
              "    </tr>\n",
              "    <tr>\n",
              "      <th>4</th>\n",
              "      <td>1956968487</td>\n",
              "      <td>sadness</td>\n",
              "      <td>I should be sleep, but im not! thinking about ...</td>\n",
              "    </tr>\n",
              "    <tr>\n",
              "      <th>...</th>\n",
              "      <td>...</td>\n",
              "      <td>...</td>\n",
              "      <td>...</td>\n",
              "    </tr>\n",
              "    <tr>\n",
              "      <th>27576</th>\n",
              "      <td>1753918881</td>\n",
              "      <td>neutral</td>\n",
              "      <td>@jasimmo Ooo showing of your French skills!! l...</td>\n",
              "    </tr>\n",
              "    <tr>\n",
              "      <th>27577</th>\n",
              "      <td>1753918892</td>\n",
              "      <td>neutral</td>\n",
              "      <td>@sendsome2me haha, yeah. Twitter has many uses...</td>\n",
              "    </tr>\n",
              "    <tr>\n",
              "      <th>27578</th>\n",
              "      <td>1753918900</td>\n",
              "      <td>happiness</td>\n",
              "      <td>Succesfully following Tayla!!</td>\n",
              "    </tr>\n",
              "    <tr>\n",
              "      <th>27579</th>\n",
              "      <td>1753918954</td>\n",
              "      <td>neutral</td>\n",
              "      <td>@JohnLloydTaylor</td>\n",
              "    </tr>\n",
              "    <tr>\n",
              "      <th>27580</th>\n",
              "      <td>1753919043</td>\n",
              "      <td>happiness</td>\n",
              "      <td>@niariley WASSUP BEAUTIFUL!!! FOLLOW ME!!  PEE...</td>\n",
              "    </tr>\n",
              "  </tbody>\n",
              "</table>\n",
              "<p>27581 rows × 3 columns</p>\n",
              "</div>"
            ],
            "text/plain": [
              "         tweet_id  sentiment                                            content\n",
              "0      1956967666    sadness  Layin n bed with a headache  ughhhh...waitin o...\n",
              "1      1956967696    sadness                Funeral ceremony...gloomy friday...\n",
              "2      1956968416    neutral  @dannycastillo We want to trade with someone w...\n",
              "3      1956968477      worry  Re-pinging @ghostridah14: why didn't you go to...\n",
              "4      1956968487    sadness  I should be sleep, but im not! thinking about ...\n",
              "...           ...        ...                                                ...\n",
              "27576  1753918881    neutral  @jasimmo Ooo showing of your French skills!! l...\n",
              "27577  1753918892    neutral  @sendsome2me haha, yeah. Twitter has many uses...\n",
              "27578  1753918900  happiness                      Succesfully following Tayla!!\n",
              "27579  1753918954    neutral                                   @JohnLloydTaylor\n",
              "27580  1753919043  happiness  @niariley WASSUP BEAUTIFUL!!! FOLLOW ME!!  PEE...\n",
              "\n",
              "[27581 rows x 3 columns]"
            ]
          },
          "metadata": {
            "tags": []
          },
          "execution_count": 15
        }
      ]
    },
    {
      "cell_type": "code",
      "metadata": {
        "id": "esfXn4aiW6z6",
        "colab": {
          "base_uri": "https://localhost:8080/"
        },
        "outputId": "84ab82e1-1ff6-4f18-9c38-57f0d760063d"
      },
      "source": [
        "df.shape                   # 27581 rows * 3 columns"
      ],
      "execution_count": 16,
      "outputs": [
        {
          "output_type": "execute_result",
          "data": {
            "text/plain": [
              "(27581, 3)"
            ]
          },
          "metadata": {
            "tags": []
          },
          "execution_count": 16
        }
      ]
    },
    {
      "cell_type": "code",
      "metadata": {
        "id": "Fgq4AO0eW6z7"
      },
      "source": [
        "df.drop('tweet_id',axis=1,inplace=True) "
      ],
      "execution_count": 17,
      "outputs": []
    },
    {
      "cell_type": "code",
      "metadata": {
        "id": "350vzaEkW6z9"
      },
      "source": [
        "df.columns = ['sentiment','text']"
      ],
      "execution_count": 18,
      "outputs": []
    },
    {
      "cell_type": "code",
      "metadata": {
        "colab": {
          "base_uri": "https://localhost:8080/",
          "height": 204
        },
        "id": "_OMLkIf4k8Rt",
        "outputId": "da295029-a9b2-46f0-b8ba-665f60e5e64a"
      },
      "source": [
        "df.head()"
      ],
      "execution_count": 19,
      "outputs": [
        {
          "output_type": "execute_result",
          "data": {
            "text/html": [
              "<div>\n",
              "<style scoped>\n",
              "    .dataframe tbody tr th:only-of-type {\n",
              "        vertical-align: middle;\n",
              "    }\n",
              "\n",
              "    .dataframe tbody tr th {\n",
              "        vertical-align: top;\n",
              "    }\n",
              "\n",
              "    .dataframe thead th {\n",
              "        text-align: right;\n",
              "    }\n",
              "</style>\n",
              "<table border=\"1\" class=\"dataframe\">\n",
              "  <thead>\n",
              "    <tr style=\"text-align: right;\">\n",
              "      <th></th>\n",
              "      <th>sentiment</th>\n",
              "      <th>text</th>\n",
              "    </tr>\n",
              "  </thead>\n",
              "  <tbody>\n",
              "    <tr>\n",
              "      <th>0</th>\n",
              "      <td>sadness</td>\n",
              "      <td>Layin n bed with a headache  ughhhh...waitin o...</td>\n",
              "    </tr>\n",
              "    <tr>\n",
              "      <th>1</th>\n",
              "      <td>sadness</td>\n",
              "      <td>Funeral ceremony...gloomy friday...</td>\n",
              "    </tr>\n",
              "    <tr>\n",
              "      <th>2</th>\n",
              "      <td>neutral</td>\n",
              "      <td>@dannycastillo We want to trade with someone w...</td>\n",
              "    </tr>\n",
              "    <tr>\n",
              "      <th>3</th>\n",
              "      <td>worry</td>\n",
              "      <td>Re-pinging @ghostridah14: why didn't you go to...</td>\n",
              "    </tr>\n",
              "    <tr>\n",
              "      <th>4</th>\n",
              "      <td>sadness</td>\n",
              "      <td>I should be sleep, but im not! thinking about ...</td>\n",
              "    </tr>\n",
              "  </tbody>\n",
              "</table>\n",
              "</div>"
            ],
            "text/plain": [
              "  sentiment                                               text\n",
              "0   sadness  Layin n bed with a headache  ughhhh...waitin o...\n",
              "1   sadness                Funeral ceremony...gloomy friday...\n",
              "2   neutral  @dannycastillo We want to trade with someone w...\n",
              "3     worry  Re-pinging @ghostridah14: why didn't you go to...\n",
              "4   sadness  I should be sleep, but im not! thinking about ..."
            ]
          },
          "metadata": {
            "tags": []
          },
          "execution_count": 19
        }
      ]
    },
    {
      "cell_type": "markdown",
      "metadata": {
        "id": "ytNR0m0sW60A"
      },
      "source": [
        "### Data Cleaning"
      ]
    },
    {
      "cell_type": "code",
      "metadata": {
        "id": "5lB2lt33W60A"
      },
      "source": [
        "#Using Sentiment lexicons to be excluded from stopwords"
      ],
      "execution_count": 20,
      "outputs": []
    },
    {
      "cell_type": "code",
      "metadata": {
        "id": "FmtWI4lvW60C"
      },
      "source": [
        "df_pos = pd.read_csv('./lexicons/positive.csv')\n",
        "df_neg = pd.read_csv('./lexicons/negative.csv')"
      ],
      "execution_count": 21,
      "outputs": []
    },
    {
      "cell_type": "code",
      "metadata": {
        "id": "YHoBp0U5W60E"
      },
      "source": [
        "def expand_text(text):\n",
        "    text = text.lower()\n",
        "    text = text.replace(\"`\",\"'\")\n",
        "    \n",
        "    #Expand Contractions\n",
        "    contraction_dict = contraction_map\n",
        "    contraction_keys = list(contraction_dict.keys())\n",
        "    \n",
        "    for word in text.split():\n",
        "        if word in contraction_keys:\n",
        "            text = text.replace(word, contraction_dict[word])\n",
        "        else:\n",
        "            continue\n",
        "    \n",
        "    return text    "
      ],
      "execution_count": 22,
      "outputs": []
    },
    {
      "cell_type": "code",
      "metadata": {
        "id": "Jqp0oPDBW60G"
      },
      "source": [
        "def clean_text(text):\n",
        "    text = text.translate(string.punctuation)\n",
        "    text = text.lower().split()\n",
        "    \n",
        "    df_pos_words = list(df_pos.words)\n",
        "    df_neg_words = list(df_neg.words)\n",
        "    \n",
        "    positive = []\n",
        "    for i in range(0,len(df_pos_words)):\n",
        "        positive.append(df_pos_words[i].lower().replace(\" \",\"\"))\n",
        "        \n",
        "    negative = []\n",
        "    for i in range(0,len(df_neg_words)):\n",
        "        negative.append(df_neg_words[i].lower().replace(\" \",\"\"))\n",
        "        \n",
        "    pos_set = set(positive)\n",
        "    neg_set = set(negative)\n",
        "    \n",
        "    keywords = set([\"above\",\"and\",\"below\",\"not\"])\n",
        "    \n",
        "    keywords.update(pos_set)\n",
        "    keywords.update(neg_set)\n",
        "    \n",
        "    stopwords_set = set(stopwords.words('english'))\n",
        "    stops = stopwords_set - keywords\n",
        "    \n",
        "    \n",
        "    text = [w for w in text if not w in stops]\n",
        "    text = \" \".join(text)\n",
        "    \n",
        "    text = re.sub(r\"[^A-Za-z0-9^,!./\\'+-=]\",\" \",text)\n",
        "    text = re.sub(r\"what's\",\"what is\",text)\n",
        "    text = re.sub(r\"\\'s\",\" \",text)\n",
        "    text = re.sub(r\"\\'ve\",\" have \",text)\n",
        "    text = re.sub(r\"n't\",\" not \",text)\n",
        "    text = re.sub(r\"i'm\",\" i am \",text)\n",
        "    text = re.sub(r\"\\'re\",\" are \",text)\n",
        "    text = re.sub(r\"\\'d\", \" would \",text)\n",
        "    text = re.sub(r\"\\'ll\", \" will \",text)\n",
        "    text = re.sub(r\",\",\" \",text)\n",
        "    text = re.sub(r\"\\.\",\" \",text)\n",
        "    text = re.sub(r\"!\",\" ! \",text)\n",
        "    text = re.sub(r\"\\/\",\" \",text)\n",
        "    text = re.sub(r\"\\^\",\" ^ \",text)\n",
        "    text = re.sub(r\"\\+\",\" + \",text)\n",
        "    text = re.sub(r\"\\-\",\" - \",text)\n",
        "    text = re.sub(r\"\\=\",\" = \",text)\n",
        "    text = re.sub(r\"'\",\" \",text)\n",
        "    text = re.sub(r\"(\\d+)(k)\",r\"\\g<1>000\",text)\n",
        "    text = re.sub(r\":\", \" : \",text)\n",
        "    text = re.sub(r\" e g \",\" eg \",text)\n",
        "    text = re.sub(r\"b g \",\" bg \",text)\n",
        "    text = re.sub(r\" u s \",\" american \",text)\n",
        "    text = re.sub(r\"\\0s\",\"0\",text)\n",
        "    text = re.sub(r\"e - mail\",\"email\",text)\n",
        "    text = re.sub(r\"\\s{2,}\",\" \",text)\n",
        "    \n",
        "    text = text.split()\n",
        "    lemmatizer = WordNetLemmatizer()\n",
        "    lemmatized_words = [lemmatizer.lemmatize(word) for word in text]\n",
        "    text = \" \".join(lemmatized_words)\n",
        "    \n",
        "    return text"
      ],
      "execution_count": 23,
      "outputs": []
    },
    {
      "cell_type": "code",
      "metadata": {
        "id": "-35te85oW60K",
        "colab": {
          "base_uri": "https://localhost:8080/",
          "height": 66,
          "referenced_widgets": [
            "551ba1a1bc474304952f5e77644abc08",
            "342a0e189f7c434b92813903105bf455",
            "cc6e64c200a4437fa16db33d4c484ead",
            "2f6c2a99fd86429a90fc561be99f71e8",
            "84a0d3ac272245e3b75003b68360e8fe",
            "45e842a5b0ec410683682ca99e92096e",
            "e5bf628da5b94002a208616ca4db7e1c",
            "80d4f2b4558f4ee3b050d0b55116b2ec"
          ]
        },
        "outputId": "b71d7673-c361-4f2f-8487-28d23c7adc9a"
      },
      "source": [
        "df['text'] = df['text'].progress_apply(lambda x : expand_text(x))"
      ],
      "execution_count": 24,
      "outputs": [
        {
          "output_type": "display_data",
          "data": {
            "application/vnd.jupyter.widget-view+json": {
              "model_id": "551ba1a1bc474304952f5e77644abc08",
              "version_minor": 0,
              "version_major": 2
            },
            "text/plain": [
              "HBox(children=(FloatProgress(value=0.0, max=27581.0), HTML(value='')))"
            ]
          },
          "metadata": {
            "tags": []
          }
        },
        {
          "output_type": "stream",
          "text": [
            "\n"
          ],
          "name": "stdout"
        }
      ]
    },
    {
      "cell_type": "code",
      "metadata": {
        "id": "2VFh4kB0W60M",
        "colab": {
          "base_uri": "https://localhost:8080/",
          "height": 66,
          "referenced_widgets": [
            "f009e696bd9244e6aa7ead45835b1052",
            "9878e4ac214f46df80f83d3b2d0a042a",
            "cd0d903c74e04797802512b099e20878",
            "ce203baa8cab44eda91cec0d1110db12",
            "29250f8eb70c4453948d3ec761335094",
            "8d4089e2707841fbb4988269eb0283f9",
            "87c49105ca7844e094bda237662c600a",
            "c2dcccd2d3b04ee5858b2a8193fc5431"
          ]
        },
        "outputId": "7e22e731-16c7-4dc5-f4c6-eb8e6dbe2e49"
      },
      "source": [
        "df['text'] = df['text'].progress_apply(lambda x: clean_text(x))"
      ],
      "execution_count": 25,
      "outputs": [
        {
          "output_type": "display_data",
          "data": {
            "application/vnd.jupyter.widget-view+json": {
              "model_id": "f009e696bd9244e6aa7ead45835b1052",
              "version_minor": 0,
              "version_major": 2
            },
            "text/plain": [
              "HBox(children=(FloatProgress(value=0.0, max=27581.0), HTML(value='')))"
            ]
          },
          "metadata": {
            "tags": []
          }
        },
        {
          "output_type": "stream",
          "text": [
            "\n"
          ],
          "name": "stdout"
        }
      ]
    },
    {
      "cell_type": "code",
      "metadata": {
        "id": "ZaUjWtyEW60N",
        "colab": {
          "base_uri": "https://localhost:8080/"
        },
        "outputId": "031940a6-5774-4300-b326-fce166e51c4e"
      },
      "source": [
        "df.sentiment.value_counts()"
      ],
      "execution_count": 26,
      "outputs": [
        {
          "output_type": "execute_result",
          "data": {
            "text/plain": [
              "neutral      8638\n",
              "worry        8459\n",
              "happiness    5209\n",
              "sadness      5165\n",
              "anger         110\n",
              "Name: sentiment, dtype: int64"
            ]
          },
          "metadata": {
            "tags": []
          },
          "execution_count": 26
        }
      ]
    },
    {
      "cell_type": "code",
      "metadata": {
        "id": "xPatjX9vW60Q",
        "colab": {
          "base_uri": "https://localhost:8080/",
          "height": 419
        },
        "outputId": "ab3f9bbf-1672-4dbc-9c50-9dc5ae2a6c08"
      },
      "source": [
        "df"
      ],
      "execution_count": 27,
      "outputs": [
        {
          "output_type": "execute_result",
          "data": {
            "text/html": [
              "<div>\n",
              "<style scoped>\n",
              "    .dataframe tbody tr th:only-of-type {\n",
              "        vertical-align: middle;\n",
              "    }\n",
              "\n",
              "    .dataframe tbody tr th {\n",
              "        vertical-align: top;\n",
              "    }\n",
              "\n",
              "    .dataframe thead th {\n",
              "        text-align: right;\n",
              "    }\n",
              "</style>\n",
              "<table border=\"1\" class=\"dataframe\">\n",
              "  <thead>\n",
              "    <tr style=\"text-align: right;\">\n",
              "      <th></th>\n",
              "      <th>sentiment</th>\n",
              "      <th>text</th>\n",
              "    </tr>\n",
              "  </thead>\n",
              "  <tbody>\n",
              "    <tr>\n",
              "      <th>0</th>\n",
              "      <td>sadness</td>\n",
              "      <td>layin n bed headache ughhhh waitin call</td>\n",
              "    </tr>\n",
              "    <tr>\n",
              "      <th>1</th>\n",
              "      <td>sadness</td>\n",
              "      <td>funeral ceremony gloomy friday</td>\n",
              "    </tr>\n",
              "    <tr>\n",
              "      <th>2</th>\n",
              "      <td>neutral</td>\n",
              "      <td>dannycastillo want trade someone houston ticke...</td>\n",
              "    </tr>\n",
              "    <tr>\n",
              "      <th>3</th>\n",
              "      <td>worry</td>\n",
              "      <td>re - pinging ghostridah14 : not go prom bc bf ...</td>\n",
              "    </tr>\n",
              "    <tr>\n",
              "      <th>4</th>\n",
              "      <td>sadness</td>\n",
              "      <td>sleep im not ! thinking old friend want marrie...</td>\n",
              "    </tr>\n",
              "    <tr>\n",
              "      <th>...</th>\n",
              "      <td>...</td>\n",
              "      <td>...</td>\n",
              "    </tr>\n",
              "    <tr>\n",
              "      <th>27576</th>\n",
              "      <td>neutral</td>\n",
              "      <td>jasimmo ooo showing french skill ! ! lol thing...</td>\n",
              "    </tr>\n",
              "    <tr>\n",
              "      <th>27577</th>\n",
              "      <td>neutral</td>\n",
              "      <td>sendsome2me haha yeah twitter many us know ppl...</td>\n",
              "    </tr>\n",
              "    <tr>\n",
              "      <th>27578</th>\n",
              "      <td>happiness</td>\n",
              "      <td>succesfully following tayla ! !</td>\n",
              "    </tr>\n",
              "    <tr>\n",
              "      <th>27579</th>\n",
              "      <td>neutral</td>\n",
              "      <td>johnlloydtaylor</td>\n",
              "    </tr>\n",
              "    <tr>\n",
              "      <th>27580</th>\n",
              "      <td>happiness</td>\n",
              "      <td>niariley wassup beautiful ! ! ! follow me ! ! ...</td>\n",
              "    </tr>\n",
              "  </tbody>\n",
              "</table>\n",
              "<p>27581 rows × 2 columns</p>\n",
              "</div>"
            ],
            "text/plain": [
              "       sentiment                                               text\n",
              "0        sadness            layin n bed headache ughhhh waitin call\n",
              "1        sadness                     funeral ceremony gloomy friday\n",
              "2        neutral  dannycastillo want trade someone houston ticke...\n",
              "3          worry  re - pinging ghostridah14 : not go prom bc bf ...\n",
              "4        sadness  sleep im not ! thinking old friend want marrie...\n",
              "...          ...                                                ...\n",
              "27576    neutral  jasimmo ooo showing french skill ! ! lol thing...\n",
              "27577    neutral  sendsome2me haha yeah twitter many us know ppl...\n",
              "27578  happiness                    succesfully following tayla ! !\n",
              "27579    neutral                                    johnlloydtaylor\n",
              "27580  happiness  niariley wassup beautiful ! ! ! follow me ! ! ...\n",
              "\n",
              "[27581 rows x 2 columns]"
            ]
          },
          "metadata": {
            "tags": []
          },
          "execution_count": 27
        }
      ]
    },
    {
      "cell_type": "markdown",
      "metadata": {
        "id": "mGWmp-0eB2s4"
      },
      "source": [
        "###Feature encoding"
      ]
    },
    {
      "cell_type": "code",
      "metadata": {
        "id": "r8GaJ6mFW60S"
      },
      "source": [
        "from sklearn.preprocessing import LabelEncoder\n",
        "lbl_enc = LabelEncoder()"
      ],
      "execution_count": 28,
      "outputs": []
    },
    {
      "cell_type": "code",
      "metadata": {
        "scrolled": true,
        "id": "pMjYmT9xW60U"
      },
      "source": [
        "y = lbl_enc.fit_transform(df.sentiment.values) #Label encoding \n"
      ],
      "execution_count": 29,
      "outputs": []
    },
    {
      "cell_type": "code",
      "metadata": {
        "scrolled": true,
        "id": "GieZdEdaW60V"
      },
      "source": [
        "#For building a dataframe for mapping emotions to label number\n",
        "y_series = pd.Series(y)\n",
        "emo_cols_series = pd.Series(lbl_enc.inverse_transform(y))  #inverse transform to find  mapped emotions"
      ],
      "execution_count": 30,
      "outputs": []
    },
    {
      "cell_type": "code",
      "metadata": {
        "scrolled": true,
        "id": "A0XQMXjpW60X"
      },
      "source": [
        "emo_df = pd.DataFrame()\n",
        "emo_df = pd.concat([emo_cols_series,y_series],axis=1)\n",
        "emo_df.columns=['emotion','Label_mapped']"
      ],
      "execution_count": 31,
      "outputs": []
    },
    {
      "cell_type": "code",
      "metadata": {
        "scrolled": false,
        "id": "-43xJT31W60Y",
        "colab": {
          "base_uri": "https://localhost:8080/",
          "height": 204
        },
        "outputId": "6b913942-2a02-42a9-e3bc-09ce51b8709c"
      },
      "source": [
        "emo_df = emo_df.drop_duplicates()\n",
        "emo_df.sort_values(by=['Label_mapped'],ascending= True)"
      ],
      "execution_count": 32,
      "outputs": [
        {
          "output_type": "execute_result",
          "data": {
            "text/html": [
              "<div>\n",
              "<style scoped>\n",
              "    .dataframe tbody tr th:only-of-type {\n",
              "        vertical-align: middle;\n",
              "    }\n",
              "\n",
              "    .dataframe tbody tr th {\n",
              "        vertical-align: top;\n",
              "    }\n",
              "\n",
              "    .dataframe thead th {\n",
              "        text-align: right;\n",
              "    }\n",
              "</style>\n",
              "<table border=\"1\" class=\"dataframe\">\n",
              "  <thead>\n",
              "    <tr style=\"text-align: right;\">\n",
              "      <th></th>\n",
              "      <th>emotion</th>\n",
              "      <th>Label_mapped</th>\n",
              "    </tr>\n",
              "  </thead>\n",
              "  <tbody>\n",
              "    <tr>\n",
              "      <th>394</th>\n",
              "      <td>anger</td>\n",
              "      <td>0</td>\n",
              "    </tr>\n",
              "    <tr>\n",
              "      <th>34</th>\n",
              "      <td>happiness</td>\n",
              "      <td>1</td>\n",
              "    </tr>\n",
              "    <tr>\n",
              "      <th>2</th>\n",
              "      <td>neutral</td>\n",
              "      <td>2</td>\n",
              "    </tr>\n",
              "    <tr>\n",
              "      <th>0</th>\n",
              "      <td>sadness</td>\n",
              "      <td>3</td>\n",
              "    </tr>\n",
              "    <tr>\n",
              "      <th>3</th>\n",
              "      <td>worry</td>\n",
              "      <td>4</td>\n",
              "    </tr>\n",
              "  </tbody>\n",
              "</table>\n",
              "</div>"
            ],
            "text/plain": [
              "       emotion  Label_mapped\n",
              "394      anger             0\n",
              "34   happiness             1\n",
              "2      neutral             2\n",
              "0      sadness             3\n",
              "3        worry             4"
            ]
          },
          "metadata": {
            "tags": []
          },
          "execution_count": 32
        }
      ]
    },
    {
      "cell_type": "markdown",
      "metadata": {
        "id": "S_owJLyBW60a"
      },
      "source": [
        "## Model building"
      ]
    },
    {
      "cell_type": "markdown",
      "metadata": {
        "id": "rf7wAasU_gma"
      },
      "source": [
        "###Importing Libraries"
      ]
    },
    {
      "cell_type": "code",
      "metadata": {
        "id": "w04U7Ggv6hTr"
      },
      "source": [
        "#Train test split \n",
        "from sklearn.model_selection import train_test_split\n",
        "from sklearn.feature_extraction.text import CountVectorizer\n",
        "from sklearn.feature_extraction.text import TfidfVectorizer            # term frequency-inverse document frequency\n",
        "from sklearn.naive_bayes import MultinomialNB\n",
        "from sklearn.metrics import accuracy_score\n",
        "\n",
        "X_train,X_test,y_train,y_test = train_test_split(df.text.values,df.sentiment.values,random_state=42, test_size=0.1, shuffle=True)  # splitting\n"
      ],
      "execution_count": 33,
      "outputs": []
    },
    {
      "cell_type": "markdown",
      "metadata": {
        "id": "LcZNTo6sW60d"
      },
      "source": [
        "### Using Tf-idf - Term Frequency - Inverse Document Frequency"
      ]
    },
    {
      "cell_type": "code",
      "metadata": {
        "scrolled": true,
        "id": "EuycmMxbW60d",
        "colab": {
          "base_uri": "https://localhost:8080/"
        },
        "outputId": "a1b6b544-7d8a-4727-eb8c-48dbb333f5ec"
      },
      "source": [
        "#Extracting Tf-idf features                            # X-Train is text values .. Y_Train is sentiment values \n",
        "\n",
        "tfidf = TfidfVectorizer(min_df=3,  max_features=None, \n",
        "            strip_accents='unicode', analyzer='word',token_pattern=r'\\w{1,}',\n",
        "            ngram_range=(1, 3), use_idf=1,smooth_idf=1,sublinear_tf=1)\n",
        "tfidf.fit(list(X_train) + list(X_test))"
      ],
      "execution_count": 34,
      "outputs": [
        {
          "output_type": "execute_result",
          "data": {
            "text/plain": [
              "TfidfVectorizer(analyzer='word', binary=False, decode_error='strict',\n",
              "                dtype=<class 'numpy.float64'>, encoding='utf-8',\n",
              "                input='content', lowercase=True, max_df=1.0, max_features=None,\n",
              "                min_df=3, ngram_range=(1, 3), norm='l2', preprocessor=None,\n",
              "                smooth_idf=1, stop_words=None, strip_accents='unicode',\n",
              "                sublinear_tf=1, token_pattern='\\\\w{1,}', tokenizer=None,\n",
              "                use_idf=1, vocabulary=None)"
            ]
          },
          "metadata": {
            "tags": []
          },
          "execution_count": 34
        }
      ]
    },
    {
      "cell_type": "code",
      "metadata": {
        "scrolled": true,
        "id": "iJH7inbxW60f"
      },
      "source": [
        "X_train_tfidf = tfidf.transform(X_train)\n",
        "X_test_tfidf = tfidf.transform(X_test)"
      ],
      "execution_count": 35,
      "outputs": []
    },
    {
      "cell_type": "markdown",
      "metadata": {
        "id": "XW9Ty7MZW60h"
      },
      "source": [
        "### Using Countvectorizer"
      ]
    },
    {
      "cell_type": "code",
      "metadata": {
        "scrolled": true,
        "id": "HuBgpEvjW60h",
        "colab": {
          "base_uri": "https://localhost:8080/"
        },
        "outputId": "528df8c7-b0a3-4e07-a856-0f27606fb661"
      },
      "source": [
        "#Extracting Counvectorizer features\n",
        "\n",
        "count_vec = CountVectorizer(analyzer='word',token_pattern=r'\\w{1,}',\n",
        "            ngram_range=(1, 3))\n",
        "count_vec.fit(list(X_train) + list(X_test))"
      ],
      "execution_count": 36,
      "outputs": [
        {
          "output_type": "execute_result",
          "data": {
            "text/plain": [
              "CountVectorizer(analyzer='word', binary=False, decode_error='strict',\n",
              "                dtype=<class 'numpy.int64'>, encoding='utf-8', input='content',\n",
              "                lowercase=True, max_df=1.0, max_features=None, min_df=1,\n",
              "                ngram_range=(1, 3), preprocessor=None, stop_words=None,\n",
              "                strip_accents=None, token_pattern='\\\\w{1,}', tokenizer=None,\n",
              "                vocabulary=None)"
            ]
          },
          "metadata": {
            "tags": []
          },
          "execution_count": 36
        }
      ]
    },
    {
      "cell_type": "code",
      "metadata": {
        "scrolled": true,
        "id": "smlDRgArW60j"
      },
      "source": [
        "X_train_count_vec = count_vec.transform(X_train)\n",
        "X_test_count_vec = count_vec.transform(X_test)"
      ],
      "execution_count": 37,
      "outputs": []
    },
    {
      "cell_type": "markdown",
      "metadata": {
        "id": "TXbm9-OIW60m"
      },
      "source": [
        "## Final Result:"
      ]
    },
    {
      "cell_type": "markdown",
      "metadata": {
        "id": "seSyyw9w-lIA"
      },
      "source": [
        "###Using TF-IDF for models"
      ]
    },
    {
      "cell_type": "code",
      "metadata": {
        "scrolled": true,
        "id": "ePslFLfSW60q",
        "colab": {
          "base_uri": "https://localhost:8080/"
        },
        "outputId": "0e61de1d-1bfc-4953-dd05-d041c64757ff"
      },
      "source": [
        "from sklearn.ensemble import RandomForestClassifier\n",
        "rf = RandomForestClassifier(n_estimators=500)\n",
        "rf.fit(X_train_tfidf,y_train)\n",
        "y_pred2 = rf.predict(X_test_tfidf)\n",
        "print('Random forest tfidf accuracy %s' % accuracy_score(y_pred2, y_test))"
      ],
      "execution_count": 38,
      "outputs": [
        {
          "output_type": "stream",
          "text": [
            "Random forest tfidf accuracy 0.45958680681406305\n"
          ],
          "name": "stdout"
        }
      ]
    },
    {
      "cell_type": "code",
      "metadata": {
        "scrolled": true,
        "id": "npZ-oD4VW60s",
        "colab": {
          "base_uri": "https://localhost:8080/"
        },
        "outputId": "5b33bc04-cb4a-4017-faad-6210e090ff47"
      },
      "source": [
        "from sklearn.linear_model import SGDClassifier\n",
        "lsvm = SGDClassifier(alpha=0.001, random_state=5, max_iter=15, tol=None)\n",
        "lsvm.fit(X_train_tfidf, y_train)\n",
        "y_pred_sgd = lsvm.predict(X_test_tfidf)\n",
        "print('SGD using tfidf accuracy %s' % accuracy_score(y_pred_sgd, y_test))"
      ],
      "execution_count": 39,
      "outputs": [
        {
          "output_type": "stream",
          "text": [
            "SGD using tfidf accuracy 0.47191011235955055\n"
          ],
          "name": "stdout"
        }
      ]
    },
    {
      "cell_type": "code",
      "metadata": {
        "id": "E7cf2lcyW60u",
        "colab": {
          "base_uri": "https://localhost:8080/"
        },
        "outputId": "dd380817-33e6-415b-abd9-79d8b3c647e2"
      },
      "source": [
        "from sklearn.linear_model import LogisticRegression\n",
        "lr = LogisticRegression(C=1.0)\n",
        "lr.fit(X_train_tfidf,y_train)\n",
        "y_pred = lr.predict(X_test_tfidf)\n",
        "print('Accuracy with Logistic Regression and Tf-idf is {}'.format(accuracy_score(y_pred,y_test)))"
      ],
      "execution_count": 40,
      "outputs": [
        {
          "output_type": "stream",
          "text": [
            "Accuracy with Logistic Regression and Tf-idf is 0.4617615077926785\n"
          ],
          "name": "stdout"
        },
        {
          "output_type": "stream",
          "text": [
            "/usr/local/lib/python3.7/dist-packages/sklearn/linear_model/_logistic.py:940: ConvergenceWarning: lbfgs failed to converge (status=1):\n",
            "STOP: TOTAL NO. of ITERATIONS REACHED LIMIT.\n",
            "\n",
            "Increase the number of iterations (max_iter) or scale the data as shown in:\n",
            "    https://scikit-learn.org/stable/modules/preprocessing.html\n",
            "Please also refer to the documentation for alternative solver options:\n",
            "    https://scikit-learn.org/stable/modules/linear_model.html#logistic-regression\n",
            "  extra_warning_msg=_LOGISTIC_SOLVER_CONVERGENCE_MSG)\n"
          ],
          "name": "stderr"
        }
      ]
    },
    {
      "cell_type": "markdown",
      "metadata": {
        "id": "F12MCKC6-w-3"
      },
      "source": [
        "###Using Countvec for models"
      ]
    },
    {
      "cell_type": "code",
      "metadata": {
        "scrolled": true,
        "id": "YMiLMqexW60y",
        "colab": {
          "base_uri": "https://localhost:8080/"
        },
        "outputId": "664f418e-c197-4418-eaba-e75a2349005f"
      },
      "source": [
        "from sklearn.metrics import accuracy_score\n",
        "from sklearn.naive_bayes import MultinomialNB\n",
        "nb = MultinomialNB()\n",
        "nb.fit(X_train_count_vec, y_train)\n",
        "y_pred = nb.predict(X_test_count_vec)\n",
        "print('naive bayes count_vec accuracy %s' % accuracy_score(y_pred, y_test))"
      ],
      "execution_count": 41,
      "outputs": [
        {
          "output_type": "stream",
          "text": [
            "naive bayes count_vec accuracy 0.44073939833272924\n"
          ],
          "name": "stdout"
        }
      ]
    },
    {
      "cell_type": "code",
      "metadata": {
        "scrolled": true,
        "id": "Mm5MQWtKW600",
        "colab": {
          "base_uri": "https://localhost:8080/"
        },
        "outputId": "c18f654b-f254-4f57-dbb0-c78107e028b2"
      },
      "source": [
        "from sklearn.linear_model import SGDClassifier\n",
        "lsvm = SGDClassifier()\n",
        "lsvm.fit(X_train_count_vec, y_train)\n",
        "y_pred = lsvm.predict(X_test_count_vec)\n",
        "print('svm using countvec accuracy %s' % accuracy_score(y_pred, y_test))"
      ],
      "execution_count": 42,
      "outputs": [
        {
          "output_type": "stream",
          "text": [
            "svm using countvec accuracy 0.46756071040231967\n"
          ],
          "name": "stdout"
        }
      ]
    },
    {
      "cell_type": "code",
      "metadata": {
        "id": "MBKvEN4MW603",
        "colab": {
          "base_uri": "https://localhost:8080/"
        },
        "outputId": "ceb7f31d-6e12-482e-d887-bddf4eb88f63"
      },
      "source": [
        "from sklearn.linear_model import LogisticRegression\n",
        "lr = LogisticRegression(C=1.0)\n",
        "lr.fit(X_train_count_vec,y_train)\n",
        "y_pred = lr.predict(X_test_count_vec)\n",
        "print('Accuracy with Logistic Regression and CountVec is {}'.format(accuracy_score(y_pred,y_test)))"
      ],
      "execution_count": 43,
      "outputs": [
        {
          "output_type": "stream",
          "text": [
            "Accuracy with Logistic Regression and CountVec is 0.4697354113809351\n"
          ],
          "name": "stdout"
        },
        {
          "output_type": "stream",
          "text": [
            "/usr/local/lib/python3.7/dist-packages/sklearn/linear_model/_logistic.py:940: ConvergenceWarning: lbfgs failed to converge (status=1):\n",
            "STOP: TOTAL NO. of ITERATIONS REACHED LIMIT.\n",
            "\n",
            "Increase the number of iterations (max_iter) or scale the data as shown in:\n",
            "    https://scikit-learn.org/stable/modules/preprocessing.html\n",
            "Please also refer to the documentation for alternative solver options:\n",
            "    https://scikit-learn.org/stable/modules/linear_model.html#logistic-regression\n",
            "  extra_warning_msg=_LOGISTIC_SOLVER_CONVERGENCE_MSG)\n"
          ],
          "name": "stderr"
        }
      ]
    },
    {
      "cell_type": "markdown",
      "metadata": {
        "id": "3jP4Xv3S-9aw"
      },
      "source": [
        "##Generate classification report and confusion matrix for SGD + TF-IDF model"
      ]
    },
    {
      "cell_type": "code",
      "metadata": {
        "id": "jO_5WTnKb1u5"
      },
      "source": [
        "from sklearn.metrics import classification_report"
      ],
      "execution_count": 44,
      "outputs": []
    },
    {
      "cell_type": "code",
      "metadata": {
        "id": "3q3FZt1ThuMK",
        "colab": {
          "base_uri": "https://localhost:8080/"
        },
        "outputId": "74528f15-dd59-4304-f015-e444f860d7a3"
      },
      "source": [
        "print(classification_report(y_test,y_pred_sgd))"
      ],
      "execution_count": 45,
      "outputs": [
        {
          "output_type": "stream",
          "text": [
            "              precision    recall  f1-score   support\n",
            "\n",
            "       anger       0.00      0.00      0.00         4\n",
            "   happiness       0.52      0.57      0.54       532\n",
            "     neutral       0.45      0.54      0.49       827\n",
            "     sadness       0.44      0.26      0.32       518\n",
            "       worry       0.48      0.47      0.48       878\n",
            "\n",
            "    accuracy                           0.47      2759\n",
            "   macro avg       0.38      0.37      0.37      2759\n",
            "weighted avg       0.47      0.47      0.46      2759\n",
            "\n"
          ],
          "name": "stdout"
        },
        {
          "output_type": "stream",
          "text": [
            "/usr/local/lib/python3.7/dist-packages/sklearn/metrics/_classification.py:1272: UndefinedMetricWarning: Precision and F-score are ill-defined and being set to 0.0 in labels with no predicted samples. Use `zero_division` parameter to control this behavior.\n",
            "  _warn_prf(average, modifier, msg_start, len(result))\n"
          ],
          "name": "stderr"
        }
      ]
    }
  ]
}