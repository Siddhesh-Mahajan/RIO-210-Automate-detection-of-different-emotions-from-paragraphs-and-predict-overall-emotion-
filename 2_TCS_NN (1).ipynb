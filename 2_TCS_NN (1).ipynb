{
  "nbformat": 4,
  "nbformat_minor": 0,
  "metadata": {
    "colab": {
      "name": "2_TCS_NN.ipynb",
      "provenance": []
    },
    "kernelspec": {
      "display_name": "Python 3",
      "name": "python3"
    },
    "language_info": {
      "name": "python"
    },
    "widgets": {
      "application/vnd.jupyter.widget-state+json": {
        "1adc192c4c3d4295af5c720a76b7b5f1": {
          "model_module": "@jupyter-widgets/controls",
          "model_name": "HBoxModel",
          "state": {
            "_view_name": "HBoxView",
            "_dom_classes": [],
            "_model_name": "HBoxModel",
            "_view_module": "@jupyter-widgets/controls",
            "_model_module_version": "1.5.0",
            "_view_count": null,
            "_view_module_version": "1.5.0",
            "box_style": "",
            "layout": "IPY_MODEL_dd71122aa0d74fff8afba83c40cd719a",
            "_model_module": "@jupyter-widgets/controls",
            "children": [
              "IPY_MODEL_55e95795b16646dd96bc5a746aee487f",
              "IPY_MODEL_c0b8b2e9a91b4e94808b68b11cd3287d"
            ]
          }
        },
        "dd71122aa0d74fff8afba83c40cd719a": {
          "model_module": "@jupyter-widgets/base",
          "model_name": "LayoutModel",
          "state": {
            "_view_name": "LayoutView",
            "grid_template_rows": null,
            "right": null,
            "justify_content": null,
            "_view_module": "@jupyter-widgets/base",
            "overflow": null,
            "_model_module_version": "1.2.0",
            "_view_count": null,
            "flex_flow": null,
            "width": null,
            "min_width": null,
            "border": null,
            "align_items": null,
            "bottom": null,
            "_model_module": "@jupyter-widgets/base",
            "top": null,
            "grid_column": null,
            "overflow_y": null,
            "overflow_x": null,
            "grid_auto_flow": null,
            "grid_area": null,
            "grid_template_columns": null,
            "flex": null,
            "_model_name": "LayoutModel",
            "justify_items": null,
            "grid_row": null,
            "max_height": null,
            "align_content": null,
            "visibility": null,
            "align_self": null,
            "height": null,
            "min_height": null,
            "padding": null,
            "grid_auto_rows": null,
            "grid_gap": null,
            "max_width": null,
            "order": null,
            "_view_module_version": "1.2.0",
            "grid_template_areas": null,
            "object_position": null,
            "object_fit": null,
            "grid_auto_columns": null,
            "margin": null,
            "display": null,
            "left": null
          }
        },
        "55e95795b16646dd96bc5a746aee487f": {
          "model_module": "@jupyter-widgets/controls",
          "model_name": "FloatProgressModel",
          "state": {
            "_view_name": "ProgressView",
            "style": "IPY_MODEL_8aa29925ee9c445b995a24393b08ed0c",
            "_dom_classes": [],
            "description": "100%",
            "_model_name": "FloatProgressModel",
            "bar_style": "success",
            "max": 32636,
            "_view_module": "@jupyter-widgets/controls",
            "_model_module_version": "1.5.0",
            "value": 32636,
            "_view_count": null,
            "_view_module_version": "1.5.0",
            "orientation": "horizontal",
            "min": 0,
            "description_tooltip": null,
            "_model_module": "@jupyter-widgets/controls",
            "layout": "IPY_MODEL_e5a079879e0c4ccd8d8e791a716b36fa"
          }
        },
        "c0b8b2e9a91b4e94808b68b11cd3287d": {
          "model_module": "@jupyter-widgets/controls",
          "model_name": "HTMLModel",
          "state": {
            "_view_name": "HTMLView",
            "style": "IPY_MODEL_ff6006e5349249fe96612a74d2852f06",
            "_dom_classes": [],
            "description": "",
            "_model_name": "HTMLModel",
            "placeholder": "​",
            "_view_module": "@jupyter-widgets/controls",
            "_model_module_version": "1.5.0",
            "value": " 32636/32636 [00:03&lt;00:00, 10640.53it/s]",
            "_view_count": null,
            "_view_module_version": "1.5.0",
            "description_tooltip": null,
            "_model_module": "@jupyter-widgets/controls",
            "layout": "IPY_MODEL_50552ca39b064e829c1624b227be7e77"
          }
        },
        "8aa29925ee9c445b995a24393b08ed0c": {
          "model_module": "@jupyter-widgets/controls",
          "model_name": "ProgressStyleModel",
          "state": {
            "_view_name": "StyleView",
            "_model_name": "ProgressStyleModel",
            "description_width": "initial",
            "_view_module": "@jupyter-widgets/base",
            "_model_module_version": "1.5.0",
            "_view_count": null,
            "_view_module_version": "1.2.0",
            "bar_color": null,
            "_model_module": "@jupyter-widgets/controls"
          }
        },
        "e5a079879e0c4ccd8d8e791a716b36fa": {
          "model_module": "@jupyter-widgets/base",
          "model_name": "LayoutModel",
          "state": {
            "_view_name": "LayoutView",
            "grid_template_rows": null,
            "right": null,
            "justify_content": null,
            "_view_module": "@jupyter-widgets/base",
            "overflow": null,
            "_model_module_version": "1.2.0",
            "_view_count": null,
            "flex_flow": null,
            "width": null,
            "min_width": null,
            "border": null,
            "align_items": null,
            "bottom": null,
            "_model_module": "@jupyter-widgets/base",
            "top": null,
            "grid_column": null,
            "overflow_y": null,
            "overflow_x": null,
            "grid_auto_flow": null,
            "grid_area": null,
            "grid_template_columns": null,
            "flex": null,
            "_model_name": "LayoutModel",
            "justify_items": null,
            "grid_row": null,
            "max_height": null,
            "align_content": null,
            "visibility": null,
            "align_self": null,
            "height": null,
            "min_height": null,
            "padding": null,
            "grid_auto_rows": null,
            "grid_gap": null,
            "max_width": null,
            "order": null,
            "_view_module_version": "1.2.0",
            "grid_template_areas": null,
            "object_position": null,
            "object_fit": null,
            "grid_auto_columns": null,
            "margin": null,
            "display": null,
            "left": null
          }
        },
        "ff6006e5349249fe96612a74d2852f06": {
          "model_module": "@jupyter-widgets/controls",
          "model_name": "DescriptionStyleModel",
          "state": {
            "_view_name": "StyleView",
            "_model_name": "DescriptionStyleModel",
            "description_width": "",
            "_view_module": "@jupyter-widgets/base",
            "_model_module_version": "1.5.0",
            "_view_count": null,
            "_view_module_version": "1.2.0",
            "_model_module": "@jupyter-widgets/controls"
          }
        },
        "50552ca39b064e829c1624b227be7e77": {
          "model_module": "@jupyter-widgets/base",
          "model_name": "LayoutModel",
          "state": {
            "_view_name": "LayoutView",
            "grid_template_rows": null,
            "right": null,
            "justify_content": null,
            "_view_module": "@jupyter-widgets/base",
            "overflow": null,
            "_model_module_version": "1.2.0",
            "_view_count": null,
            "flex_flow": null,
            "width": null,
            "min_width": null,
            "border": null,
            "align_items": null,
            "bottom": null,
            "_model_module": "@jupyter-widgets/base",
            "top": null,
            "grid_column": null,
            "overflow_y": null,
            "overflow_x": null,
            "grid_auto_flow": null,
            "grid_area": null,
            "grid_template_columns": null,
            "flex": null,
            "_model_name": "LayoutModel",
            "justify_items": null,
            "grid_row": null,
            "max_height": null,
            "align_content": null,
            "visibility": null,
            "align_self": null,
            "height": null,
            "min_height": null,
            "padding": null,
            "grid_auto_rows": null,
            "grid_gap": null,
            "max_width": null,
            "order": null,
            "_view_module_version": "1.2.0",
            "grid_template_areas": null,
            "object_position": null,
            "object_fit": null,
            "grid_auto_columns": null,
            "margin": null,
            "display": null,
            "left": null
          }
        },
        "ea981c10f3eb4902851b073166db5ad3": {
          "model_module": "@jupyter-widgets/controls",
          "model_name": "HBoxModel",
          "state": {
            "_view_name": "HBoxView",
            "_dom_classes": [],
            "_model_name": "HBoxModel",
            "_view_module": "@jupyter-widgets/controls",
            "_model_module_version": "1.5.0",
            "_view_count": null,
            "_view_module_version": "1.5.0",
            "box_style": "",
            "layout": "IPY_MODEL_e5d85d5cef934c478e1ca35fbee86e27",
            "_model_module": "@jupyter-widgets/controls",
            "children": [
              "IPY_MODEL_1231fda3c8a847289ae989edfd2e8262",
              "IPY_MODEL_29ac75b4f6d9447dbbbceabdc975665a"
            ]
          }
        },
        "e5d85d5cef934c478e1ca35fbee86e27": {
          "model_module": "@jupyter-widgets/base",
          "model_name": "LayoutModel",
          "state": {
            "_view_name": "LayoutView",
            "grid_template_rows": null,
            "right": null,
            "justify_content": null,
            "_view_module": "@jupyter-widgets/base",
            "overflow": null,
            "_model_module_version": "1.2.0",
            "_view_count": null,
            "flex_flow": null,
            "width": null,
            "min_width": null,
            "border": null,
            "align_items": null,
            "bottom": null,
            "_model_module": "@jupyter-widgets/base",
            "top": null,
            "grid_column": null,
            "overflow_y": null,
            "overflow_x": null,
            "grid_auto_flow": null,
            "grid_area": null,
            "grid_template_columns": null,
            "flex": null,
            "_model_name": "LayoutModel",
            "justify_items": null,
            "grid_row": null,
            "max_height": null,
            "align_content": null,
            "visibility": null,
            "align_self": null,
            "height": null,
            "min_height": null,
            "padding": null,
            "grid_auto_rows": null,
            "grid_gap": null,
            "max_width": null,
            "order": null,
            "_view_module_version": "1.2.0",
            "grid_template_areas": null,
            "object_position": null,
            "object_fit": null,
            "grid_auto_columns": null,
            "margin": null,
            "display": null,
            "left": null
          }
        },
        "1231fda3c8a847289ae989edfd2e8262": {
          "model_module": "@jupyter-widgets/controls",
          "model_name": "FloatProgressModel",
          "state": {
            "_view_name": "ProgressView",
            "style": "IPY_MODEL_2640cbd1fd024dc7a661a2a058246248",
            "_dom_classes": [],
            "description": "100%",
            "_model_name": "FloatProgressModel",
            "bar_style": "success",
            "max": 32636,
            "_view_module": "@jupyter-widgets/controls",
            "_model_module_version": "1.5.0",
            "value": 32636,
            "_view_count": null,
            "_view_module_version": "1.5.0",
            "orientation": "horizontal",
            "min": 0,
            "description_tooltip": null,
            "_model_module": "@jupyter-widgets/controls",
            "layout": "IPY_MODEL_226db84aa6524c61b28205162a58c6b9"
          }
        },
        "29ac75b4f6d9447dbbbceabdc975665a": {
          "model_module": "@jupyter-widgets/controls",
          "model_name": "HTMLModel",
          "state": {
            "_view_name": "HTMLView",
            "style": "IPY_MODEL_1318ef48c2ed412da1fc191c0ac0a832",
            "_dom_classes": [],
            "description": "",
            "_model_name": "HTMLModel",
            "placeholder": "​",
            "_view_module": "@jupyter-widgets/controls",
            "_model_module_version": "1.5.0",
            "value": " 32636/32636 [03:03&lt;00:00, 177.99it/s]",
            "_view_count": null,
            "_view_module_version": "1.5.0",
            "description_tooltip": null,
            "_model_module": "@jupyter-widgets/controls",
            "layout": "IPY_MODEL_7884cf3e7f6b4aa490348c579c51307e"
          }
        },
        "2640cbd1fd024dc7a661a2a058246248": {
          "model_module": "@jupyter-widgets/controls",
          "model_name": "ProgressStyleModel",
          "state": {
            "_view_name": "StyleView",
            "_model_name": "ProgressStyleModel",
            "description_width": "initial",
            "_view_module": "@jupyter-widgets/base",
            "_model_module_version": "1.5.0",
            "_view_count": null,
            "_view_module_version": "1.2.0",
            "bar_color": null,
            "_model_module": "@jupyter-widgets/controls"
          }
        },
        "226db84aa6524c61b28205162a58c6b9": {
          "model_module": "@jupyter-widgets/base",
          "model_name": "LayoutModel",
          "state": {
            "_view_name": "LayoutView",
            "grid_template_rows": null,
            "right": null,
            "justify_content": null,
            "_view_module": "@jupyter-widgets/base",
            "overflow": null,
            "_model_module_version": "1.2.0",
            "_view_count": null,
            "flex_flow": null,
            "width": null,
            "min_width": null,
            "border": null,
            "align_items": null,
            "bottom": null,
            "_model_module": "@jupyter-widgets/base",
            "top": null,
            "grid_column": null,
            "overflow_y": null,
            "overflow_x": null,
            "grid_auto_flow": null,
            "grid_area": null,
            "grid_template_columns": null,
            "flex": null,
            "_model_name": "LayoutModel",
            "justify_items": null,
            "grid_row": null,
            "max_height": null,
            "align_content": null,
            "visibility": null,
            "align_self": null,
            "height": null,
            "min_height": null,
            "padding": null,
            "grid_auto_rows": null,
            "grid_gap": null,
            "max_width": null,
            "order": null,
            "_view_module_version": "1.2.0",
            "grid_template_areas": null,
            "object_position": null,
            "object_fit": null,
            "grid_auto_columns": null,
            "margin": null,
            "display": null,
            "left": null
          }
        },
        "1318ef48c2ed412da1fc191c0ac0a832": {
          "model_module": "@jupyter-widgets/controls",
          "model_name": "DescriptionStyleModel",
          "state": {
            "_view_name": "StyleView",
            "_model_name": "DescriptionStyleModel",
            "description_width": "",
            "_view_module": "@jupyter-widgets/base",
            "_model_module_version": "1.5.0",
            "_view_count": null,
            "_view_module_version": "1.2.0",
            "_model_module": "@jupyter-widgets/controls"
          }
        },
        "7884cf3e7f6b4aa490348c579c51307e": {
          "model_module": "@jupyter-widgets/base",
          "model_name": "LayoutModel",
          "state": {
            "_view_name": "LayoutView",
            "grid_template_rows": null,
            "right": null,
            "justify_content": null,
            "_view_module": "@jupyter-widgets/base",
            "overflow": null,
            "_model_module_version": "1.2.0",
            "_view_count": null,
            "flex_flow": null,
            "width": null,
            "min_width": null,
            "border": null,
            "align_items": null,
            "bottom": null,
            "_model_module": "@jupyter-widgets/base",
            "top": null,
            "grid_column": null,
            "overflow_y": null,
            "overflow_x": null,
            "grid_auto_flow": null,
            "grid_area": null,
            "grid_template_columns": null,
            "flex": null,
            "_model_name": "LayoutModel",
            "justify_items": null,
            "grid_row": null,
            "max_height": null,
            "align_content": null,
            "visibility": null,
            "align_self": null,
            "height": null,
            "min_height": null,
            "padding": null,
            "grid_auto_rows": null,
            "grid_gap": null,
            "max_width": null,
            "order": null,
            "_view_module_version": "1.2.0",
            "grid_template_areas": null,
            "object_position": null,
            "object_fit": null,
            "grid_auto_columns": null,
            "margin": null,
            "display": null,
            "left": null
          }
        }
      }
    },
    "accelerator": "GPU"
  },
  "cells": [
    {
      "cell_type": "markdown",
      "metadata": {
        "id": "d22lYNcoxJ6j"
      },
      "source": [
        "## A Deep Learning Model for accurately predicting the overall emotion of the paragraph."
      ]
    },
    {
      "cell_type": "code",
      "metadata": {
        "colab": {
          "base_uri": "https://localhost:8080/"
        },
        "id": "3_UhrtLJzSt-",
        "outputId": "305ad41e-0b8e-4bd3-e5d6-62eff3c9f124"
      },
      "source": [
        "from google.colab import drive\n",
        "drive.mount('/content/drive')"
      ],
      "execution_count": 1,
      "outputs": [
        {
          "output_type": "stream",
          "text": [
            "Drive already mounted at /content/drive; to attempt to forcibly remount, call drive.mount(\"/content/drive\", force_remount=True).\n"
          ],
          "name": "stdout"
        }
      ]
    },
    {
      "cell_type": "code",
      "metadata": {
        "colab": {
          "base_uri": "https://localhost:8080/"
        },
        "id": "g6SrqgcPzSrH",
        "outputId": "4eeb5563-9e6c-44a9-c9fd-1c0da4d426ab"
      },
      "source": [
        "cd /content/drive/MyDrive/Resources"
      ],
      "execution_count": 2,
      "outputs": [
        {
          "output_type": "stream",
          "text": [
            "/content/drive/MyDrive/Resources\n"
          ],
          "name": "stdout"
        }
      ]
    },
    {
      "cell_type": "markdown",
      "metadata": {
        "id": "Yl9IkT_iyJXG"
      },
      "source": [
        "### Importing libraries"
      ]
    },
    {
      "cell_type": "code",
      "metadata": {
        "colab": {
          "base_uri": "https://localhost:8080/"
        },
        "id": "G_gsp_p1yJAU",
        "outputId": "a0f2c655-7fbe-4368-e017-be9b94bc4620"
      },
      "source": [
        "import pandas as pd\n",
        "import numpy as np\n",
        "import seaborn as sns                           \n",
        "import matplotlib.pyplot as plt   \n",
        "from tqdm._tqdm_notebook import tqdm_notebook\n",
        "tqdm_notebook.pandas()\n",
        "import nltk\n",
        "from nltk.corpus import stopwords\n",
        "from nltk.stem import WordNetLemmatizer\n",
        "\n",
        "from gensim.models import fasttext\n",
        "from contractions import contraction_map\n",
        "import string,re"
      ],
      "execution_count": 3,
      "outputs": [
        {
          "output_type": "stream",
          "text": [
            "/usr/local/lib/python3.7/dist-packages/ipykernel_launcher.py:5: TqdmDeprecationWarning: This function will be removed in tqdm==5.0.0\n",
            "Please use `tqdm.notebook.*` instead of `tqdm._tqdm_notebook.*`\n",
            "  \"\"\"\n",
            "/usr/local/lib/python3.7/dist-packages/tqdm/std.py:658: FutureWarning: The Panel class is removed from pandas. Accessing it from the top-level namespace will also be removed in the next version\n",
            "  from pandas import Panel\n"
          ],
          "name": "stderr"
        }
      ]
    },
    {
      "cell_type": "code",
      "metadata": {
        "id": "5-bVKRvdyI9i"
      },
      "source": [
        "# Libraries for Deep Learning\n",
        "\n",
        "from sklearn.model_selection import train_test_split\n",
        "from sklearn.feature_extraction.text import CountVectorizer\n",
        "import tensorflow as tf\n",
        "from keras.preprocessing.text import Tokenizer\n",
        "from keras.preprocessing.sequence import pad_sequences\n",
        "from keras.layers import Dense, Embedding, Bidirectional, SpatialDropout1D, Input, TimeDistributed, Flatten, LSTM, GRU, Dropout\n",
        "from keras.models import Sequential, save_model, Model\n",
        "from keras.utils.np_utils import to_categorical\n",
        "from keras.callbacks import EarlyStopping,ModelCheckpoint"
      ],
      "execution_count": 4,
      "outputs": []
    },
    {
      "cell_type": "markdown",
      "metadata": {
        "id": "d4rHg4it5m1k"
      },
      "source": [
        "\n",
        "\n",
        "### Data Preprocessing"
      ]
    },
    {
      "cell_type": "code",
      "metadata": {
        "id": "Iw2ooXoWyI3c"
      },
      "source": [
        "data = pd.read_csv('/content/drive/MyDrive/Resources/text_emotion.csv')"
      ],
      "execution_count": 5,
      "outputs": []
    },
    {
      "cell_type": "code",
      "metadata": {
        "colab": {
          "base_uri": "https://localhost:8080/",
          "height": 204
        },
        "id": "v2jX2wkmyI0r",
        "outputId": "595334ba-1f1f-427e-f737-4585103d852f"
      },
      "source": [
        "data.head()"
      ],
      "execution_count": 6,
      "outputs": [
        {
          "output_type": "execute_result",
          "data": {
            "text/html": [
              "<div>\n",
              "<style scoped>\n",
              "    .dataframe tbody tr th:only-of-type {\n",
              "        vertical-align: middle;\n",
              "    }\n",
              "\n",
              "    .dataframe tbody tr th {\n",
              "        vertical-align: top;\n",
              "    }\n",
              "\n",
              "    .dataframe thead th {\n",
              "        text-align: right;\n",
              "    }\n",
              "</style>\n",
              "<table border=\"1\" class=\"dataframe\">\n",
              "  <thead>\n",
              "    <tr style=\"text-align: right;\">\n",
              "      <th></th>\n",
              "      <th>tweet_id</th>\n",
              "      <th>sentiment</th>\n",
              "      <th>author</th>\n",
              "      <th>content</th>\n",
              "    </tr>\n",
              "  </thead>\n",
              "  <tbody>\n",
              "    <tr>\n",
              "      <th>0</th>\n",
              "      <td>1956967341</td>\n",
              "      <td>empty</td>\n",
              "      <td>xoshayzers</td>\n",
              "      <td>@tiffanylue i know  i was listenin to bad habi...</td>\n",
              "    </tr>\n",
              "    <tr>\n",
              "      <th>1</th>\n",
              "      <td>1956967666</td>\n",
              "      <td>sadness</td>\n",
              "      <td>wannamama</td>\n",
              "      <td>Layin n bed with a headache  ughhhh...waitin o...</td>\n",
              "    </tr>\n",
              "    <tr>\n",
              "      <th>2</th>\n",
              "      <td>1956967696</td>\n",
              "      <td>sadness</td>\n",
              "      <td>coolfunky</td>\n",
              "      <td>Funeral ceremony...gloomy friday...</td>\n",
              "    </tr>\n",
              "    <tr>\n",
              "      <th>3</th>\n",
              "      <td>1956967789</td>\n",
              "      <td>enthusiasm</td>\n",
              "      <td>czareaquino</td>\n",
              "      <td>wants to hang out with friends SOON!</td>\n",
              "    </tr>\n",
              "    <tr>\n",
              "      <th>4</th>\n",
              "      <td>1956968416</td>\n",
              "      <td>neutral</td>\n",
              "      <td>xkilljoyx</td>\n",
              "      <td>@dannycastillo We want to trade with someone w...</td>\n",
              "    </tr>\n",
              "  </tbody>\n",
              "</table>\n",
              "</div>"
            ],
            "text/plain": [
              "     tweet_id  ...                                            content\n",
              "0  1956967341  ...  @tiffanylue i know  i was listenin to bad habi...\n",
              "1  1956967666  ...  Layin n bed with a headache  ughhhh...waitin o...\n",
              "2  1956967696  ...                Funeral ceremony...gloomy friday...\n",
              "3  1956967789  ...               wants to hang out with friends SOON!\n",
              "4  1956968416  ...  @dannycastillo We want to trade with someone w...\n",
              "\n",
              "[5 rows x 4 columns]"
            ]
          },
          "metadata": {
            "tags": []
          },
          "execution_count": 6
        }
      ]
    },
    {
      "cell_type": "code",
      "metadata": {
        "colab": {
          "base_uri": "https://localhost:8080/"
        },
        "id": "3A6t_lE4yIq3",
        "outputId": "8757a335-6770-42a8-c505-5327ddb57520"
      },
      "source": [
        "data.sentiment.value_counts() "
      ],
      "execution_count": 7,
      "outputs": [
        {
          "output_type": "execute_result",
          "data": {
            "text/plain": [
              "neutral       8638\n",
              "worry         8459\n",
              "happiness     5209\n",
              "sadness       5165\n",
              "love          3842\n",
              "surprise      2187\n",
              "fun           1776\n",
              "relief        1526\n",
              "hate          1323\n",
              "empty          827\n",
              "enthusiasm     759\n",
              "boredom        179\n",
              "anger          110\n",
              "Name: sentiment, dtype: int64"
            ]
          },
          "metadata": {
            "tags": []
          },
          "execution_count": 7
        }
      ]
    },
    {
      "cell_type": "code",
      "metadata": {
        "colab": {
          "base_uri": "https://localhost:8080/",
          "height": 334
        },
        "id": "HYB-Xizpwwmb",
        "outputId": "c5951b61-03a1-4a67-be6a-1d56c6a0fc57"
      },
      "source": [
        "plt.figure(figsize=(12,5))\n",
        "sns.countplot(x='sentiment', data = data)\n",
        "plt.show()"
      ],
      "execution_count": 8,
      "outputs": [
        {
          "output_type": "display_data",
          "data": {
            "image/png": "[encoded data removed]",
            "text/plain": [
              "<Figure size 864x360 with 1 Axes>"
            ]
          },
          "metadata": {
            "tags": [],
            "needs_background": "light"
          }
        }
      ]
    },
    {
      "cell_type": "code",
      "metadata": {
        "id": "DniN8c8f61QV"
      },
      "source": [
        "df_temp = data.copy()"
      ],
      "execution_count": 9,
      "outputs": []
    },
    {
      "cell_type": "code",
      "metadata": {
        "colab": {
          "base_uri": "https://localhost:8080/"
        },
        "id": "gT8uax6m7DMh",
        "outputId": "4f58357d-6854-47c2-ea05-9e1fe6abc754"
      },
      "source": [
        "df_temp.dtypes"
      ],
      "execution_count": 10,
      "outputs": [
        {
          "output_type": "execute_result",
          "data": {
            "text/plain": [
              "tweet_id      int64\n",
              "sentiment    object\n",
              "author       object\n",
              "content      object\n",
              "dtype: object"
            ]
          },
          "metadata": {
            "tags": []
          },
          "execution_count": 10
        }
      ]
    },
    {
      "cell_type": "code",
      "metadata": {
        "id": "raOx0AQ37F46"
      },
      "source": [
        "# Dropping rows with irrelevant emotion labels\n",
        "df_temp = df_temp.drop(df_temp[df_temp.sentiment == 'boredom'].index)\n",
        "df_temp = df_temp.drop(df_temp[df_temp.sentiment == 'enthusiasm'].index)\n",
        "df_temp = df_temp.drop(df_temp[df_temp.sentiment == 'empty'].index)\n",
        "df_temp = df_temp.drop(df_temp[df_temp.sentiment == 'fun'].index)\n",
        "df_temp = df_temp.drop(df_temp[df_temp.sentiment == 'relief'].index)\n",
        "df_temp = df_temp.drop(df_temp[df_temp.sentiment == 'surprise'].index)\n",
        "df_temp = df_temp.drop(df_temp[df_temp.sentiment == 'love'].index)\n",
        "df_temp = df_temp.drop(df_temp[df_temp.sentiment == 'hate'].index)"
      ],
      "execution_count": 11,
      "outputs": []
    },
    {
      "cell_type": "code",
      "metadata": {
        "colab": {
          "base_uri": "https://localhost:8080/"
        },
        "id": "GFuq-DKY7avi",
        "outputId": "fda3e451-b9b6-4df6-c653-cf26bf3f7658"
      },
      "source": [
        "df_temp.sentiment.value_counts() "
      ],
      "execution_count": 12,
      "outputs": [
        {
          "output_type": "execute_result",
          "data": {
            "text/plain": [
              "neutral      8638\n",
              "worry        8459\n",
              "happiness    5209\n",
              "sadness      5165\n",
              "anger         110\n",
              "Name: sentiment, dtype: int64"
            ]
          },
          "metadata": {
            "tags": []
          },
          "execution_count": 12
        }
      ]
    },
    {
      "cell_type": "code",
      "metadata": {
        "colab": {
          "base_uri": "https://localhost:8080/",
          "height": 419
        },
        "id": "q57raSit8Rda",
        "outputId": "5e72c64b-7b9c-44c0-9616-281b69470a00"
      },
      "source": [
        "df_temp"
      ],
      "execution_count": 13,
      "outputs": [
        {
          "output_type": "execute_result",
          "data": {
            "text/html": [
              "<div>\n",
              "<style scoped>\n",
              "    .dataframe tbody tr th:only-of-type {\n",
              "        vertical-align: middle;\n",
              "    }\n",
              "\n",
              "    .dataframe tbody tr th {\n",
              "        vertical-align: top;\n",
              "    }\n",
              "\n",
              "    .dataframe thead th {\n",
              "        text-align: right;\n",
              "    }\n",
              "</style>\n",
              "<table border=\"1\" class=\"dataframe\">\n",
              "  <thead>\n",
              "    <tr style=\"text-align: right;\">\n",
              "      <th></th>\n",
              "      <th>tweet_id</th>\n",
              "      <th>sentiment</th>\n",
              "      <th>author</th>\n",
              "      <th>content</th>\n",
              "    </tr>\n",
              "  </thead>\n",
              "  <tbody>\n",
              "    <tr>\n",
              "      <th>1</th>\n",
              "      <td>1956967666</td>\n",
              "      <td>sadness</td>\n",
              "      <td>wannamama</td>\n",
              "      <td>Layin n bed with a headache  ughhhh...waitin o...</td>\n",
              "    </tr>\n",
              "    <tr>\n",
              "      <th>2</th>\n",
              "      <td>1956967696</td>\n",
              "      <td>sadness</td>\n",
              "      <td>coolfunky</td>\n",
              "      <td>Funeral ceremony...gloomy friday...</td>\n",
              "    </tr>\n",
              "    <tr>\n",
              "      <th>4</th>\n",
              "      <td>1956968416</td>\n",
              "      <td>neutral</td>\n",
              "      <td>xkilljoyx</td>\n",
              "      <td>@dannycastillo We want to trade with someone w...</td>\n",
              "    </tr>\n",
              "    <tr>\n",
              "      <th>5</th>\n",
              "      <td>1956968477</td>\n",
              "      <td>worry</td>\n",
              "      <td>xxxPEACHESxxx</td>\n",
              "      <td>Re-pinging @ghostridah14: why didn't you go to...</td>\n",
              "    </tr>\n",
              "    <tr>\n",
              "      <th>6</th>\n",
              "      <td>1956968487</td>\n",
              "      <td>sadness</td>\n",
              "      <td>ShansBee</td>\n",
              "      <td>I should be sleep, but im not! thinking about ...</td>\n",
              "    </tr>\n",
              "    <tr>\n",
              "      <th>...</th>\n",
              "      <td>...</td>\n",
              "      <td>...</td>\n",
              "      <td>...</td>\n",
              "      <td>...</td>\n",
              "    </tr>\n",
              "    <tr>\n",
              "      <th>39992</th>\n",
              "      <td>1753918881</td>\n",
              "      <td>neutral</td>\n",
              "      <td>_Alectrona_</td>\n",
              "      <td>@jasimmo Ooo showing of your French skills!! l...</td>\n",
              "    </tr>\n",
              "    <tr>\n",
              "      <th>39993</th>\n",
              "      <td>1753918892</td>\n",
              "      <td>neutral</td>\n",
              "      <td>bushidosan</td>\n",
              "      <td>@sendsome2me haha, yeah. Twitter has many uses...</td>\n",
              "    </tr>\n",
              "    <tr>\n",
              "      <th>39994</th>\n",
              "      <td>1753918900</td>\n",
              "      <td>happiness</td>\n",
              "      <td>courtside101</td>\n",
              "      <td>Succesfully following Tayla!!</td>\n",
              "    </tr>\n",
              "    <tr>\n",
              "      <th>39995</th>\n",
              "      <td>1753918954</td>\n",
              "      <td>neutral</td>\n",
              "      <td>showMe_Heaven</td>\n",
              "      <td>@JohnLloydTaylor</td>\n",
              "    </tr>\n",
              "    <tr>\n",
              "      <th>39998</th>\n",
              "      <td>1753919043</td>\n",
              "      <td>happiness</td>\n",
              "      <td>ipdaman1</td>\n",
              "      <td>@niariley WASSUP BEAUTIFUL!!! FOLLOW ME!!  PEE...</td>\n",
              "    </tr>\n",
              "  </tbody>\n",
              "</table>\n",
              "<p>27581 rows × 4 columns</p>\n",
              "</div>"
            ],
            "text/plain": [
              "         tweet_id  ...                                            content\n",
              "1      1956967666  ...  Layin n bed with a headache  ughhhh...waitin o...\n",
              "2      1956967696  ...                Funeral ceremony...gloomy friday...\n",
              "4      1956968416  ...  @dannycastillo We want to trade with someone w...\n",
              "5      1956968477  ...  Re-pinging @ghostridah14: why didn't you go to...\n",
              "6      1956968487  ...  I should be sleep, but im not! thinking about ...\n",
              "...           ...  ...                                                ...\n",
              "39992  1753918881  ...  @jasimmo Ooo showing of your French skills!! l...\n",
              "39993  1753918892  ...  @sendsome2me haha, yeah. Twitter has many uses...\n",
              "39994  1753918900  ...                      Succesfully following Tayla!!\n",
              "39995  1753918954  ...                                   @JohnLloydTaylor\n",
              "39998  1753919043  ...  @niariley WASSUP BEAUTIFUL!!! FOLLOW ME!!  PEE...\n",
              "\n",
              "[27581 rows x 4 columns]"
            ]
          },
          "metadata": {
            "tags": []
          },
          "execution_count": 13
        }
      ]
    },
    {
      "cell_type": "code",
      "metadata": {
        "colab": {
          "base_uri": "https://localhost:8080/",
          "height": 419
        },
        "id": "cM_e0ZxJ8rsj",
        "outputId": "a1eeb7c3-1bdf-447e-bd5d-5dc085e46dc2"
      },
      "source": [
        "df_temp = df_temp.drop('author',axis=1)\n",
        "df_temp"
      ],
      "execution_count": 14,
      "outputs": [
        {
          "output_type": "execute_result",
          "data": {
            "text/html": [
              "<div>\n",
              "<style scoped>\n",
              "    .dataframe tbody tr th:only-of-type {\n",
              "        vertical-align: middle;\n",
              "    }\n",
              "\n",
              "    .dataframe tbody tr th {\n",
              "        vertical-align: top;\n",
              "    }\n",
              "\n",
              "    .dataframe thead th {\n",
              "        text-align: right;\n",
              "    }\n",
              "</style>\n",
              "<table border=\"1\" class=\"dataframe\">\n",
              "  <thead>\n",
              "    <tr style=\"text-align: right;\">\n",
              "      <th></th>\n",
              "      <th>tweet_id</th>\n",
              "      <th>sentiment</th>\n",
              "      <th>content</th>\n",
              "    </tr>\n",
              "  </thead>\n",
              "  <tbody>\n",
              "    <tr>\n",
              "      <th>1</th>\n",
              "      <td>1956967666</td>\n",
              "      <td>sadness</td>\n",
              "      <td>Layin n bed with a headache  ughhhh...waitin o...</td>\n",
              "    </tr>\n",
              "    <tr>\n",
              "      <th>2</th>\n",
              "      <td>1956967696</td>\n",
              "      <td>sadness</td>\n",
              "      <td>Funeral ceremony...gloomy friday...</td>\n",
              "    </tr>\n",
              "    <tr>\n",
              "      <th>4</th>\n",
              "      <td>1956968416</td>\n",
              "      <td>neutral</td>\n",
              "      <td>@dannycastillo We want to trade with someone w...</td>\n",
              "    </tr>\n",
              "    <tr>\n",
              "      <th>5</th>\n",
              "      <td>1956968477</td>\n",
              "      <td>worry</td>\n",
              "      <td>Re-pinging @ghostridah14: why didn't you go to...</td>\n",
              "    </tr>\n",
              "    <tr>\n",
              "      <th>6</th>\n",
              "      <td>1956968487</td>\n",
              "      <td>sadness</td>\n",
              "      <td>I should be sleep, but im not! thinking about ...</td>\n",
              "    </tr>\n",
              "    <tr>\n",
              "      <th>...</th>\n",
              "      <td>...</td>\n",
              "      <td>...</td>\n",
              "      <td>...</td>\n",
              "    </tr>\n",
              "    <tr>\n",
              "      <th>39992</th>\n",
              "      <td>1753918881</td>\n",
              "      <td>neutral</td>\n",
              "      <td>@jasimmo Ooo showing of your French skills!! l...</td>\n",
              "    </tr>\n",
              "    <tr>\n",
              "      <th>39993</th>\n",
              "      <td>1753918892</td>\n",
              "      <td>neutral</td>\n",
              "      <td>@sendsome2me haha, yeah. Twitter has many uses...</td>\n",
              "    </tr>\n",
              "    <tr>\n",
              "      <th>39994</th>\n",
              "      <td>1753918900</td>\n",
              "      <td>happiness</td>\n",
              "      <td>Succesfully following Tayla!!</td>\n",
              "    </tr>\n",
              "    <tr>\n",
              "      <th>39995</th>\n",
              "      <td>1753918954</td>\n",
              "      <td>neutral</td>\n",
              "      <td>@JohnLloydTaylor</td>\n",
              "    </tr>\n",
              "    <tr>\n",
              "      <th>39998</th>\n",
              "      <td>1753919043</td>\n",
              "      <td>happiness</td>\n",
              "      <td>@niariley WASSUP BEAUTIFUL!!! FOLLOW ME!!  PEE...</td>\n",
              "    </tr>\n",
              "  </tbody>\n",
              "</table>\n",
              "<p>27581 rows × 3 columns</p>\n",
              "</div>"
            ],
            "text/plain": [
              "         tweet_id  sentiment                                            content\n",
              "1      1956967666    sadness  Layin n bed with a headache  ughhhh...waitin o...\n",
              "2      1956967696    sadness                Funeral ceremony...gloomy friday...\n",
              "4      1956968416    neutral  @dannycastillo We want to trade with someone w...\n",
              "5      1956968477      worry  Re-pinging @ghostridah14: why didn't you go to...\n",
              "6      1956968487    sadness  I should be sleep, but im not! thinking about ...\n",
              "...           ...        ...                                                ...\n",
              "39992  1753918881    neutral  @jasimmo Ooo showing of your French skills!! l...\n",
              "39993  1753918892    neutral  @sendsome2me haha, yeah. Twitter has many uses...\n",
              "39994  1753918900  happiness                      Succesfully following Tayla!!\n",
              "39995  1753918954    neutral                                   @JohnLloydTaylor\n",
              "39998  1753919043  happiness  @niariley WASSUP BEAUTIFUL!!! FOLLOW ME!!  PEE...\n",
              "\n",
              "[27581 rows x 3 columns]"
            ]
          },
          "metadata": {
            "tags": []
          },
          "execution_count": 14
        }
      ]
    },
    {
      "cell_type": "code",
      "metadata": {
        "id": "lovQlHM1_Dwz"
      },
      "source": [
        "df_temp.reset_index(drop=True,inplace=True)"
      ],
      "execution_count": 15,
      "outputs": []
    },
    {
      "cell_type": "code",
      "metadata": {
        "id": "_9Rk9_mu_K11"
      },
      "source": [
        "df_temp.drop('tweet_id',axis=1,inplace=True)"
      ],
      "execution_count": 16,
      "outputs": []
    },
    {
      "cell_type": "code",
      "metadata": {
        "colab": {
          "base_uri": "https://localhost:8080/"
        },
        "id": "wvD8knbt_Qyg",
        "outputId": "77c64895-b5e4-463f-b3ae-a1e87962fa0e"
      },
      "source": [
        "df_temp.shape"
      ],
      "execution_count": 17,
      "outputs": [
        {
          "output_type": "execute_result",
          "data": {
            "text/plain": [
              "(27581, 2)"
            ]
          },
          "metadata": {
            "tags": []
          },
          "execution_count": 17
        }
      ]
    },
    {
      "cell_type": "code",
      "metadata": {
        "id": "haPhYdOh_kch"
      },
      "source": [
        "df_temp.columns = ['sentiment','text']"
      ],
      "execution_count": 18,
      "outputs": []
    },
    {
      "cell_type": "code",
      "metadata": {
        "colab": {
          "base_uri": "https://localhost:8080/"
        },
        "id": "0BdxYHck_nVn",
        "outputId": "62e1ad73-267d-4f73-c668-18bd1374bb40"
      },
      "source": [
        "df_temp.sentiment.value_counts()"
      ],
      "execution_count": 19,
      "outputs": [
        {
          "output_type": "execute_result",
          "data": {
            "text/plain": [
              "neutral      8638\n",
              "worry        8459\n",
              "happiness    5209\n",
              "sadness      5165\n",
              "anger         110\n",
              "Name: sentiment, dtype: int64"
            ]
          },
          "metadata": {
            "tags": []
          },
          "execution_count": 19
        }
      ]
    },
    {
      "cell_type": "code",
      "metadata": {
        "colab": {
          "base_uri": "https://localhost:8080/",
          "height": 419
        },
        "id": "MaNiRDnc_qG6",
        "outputId": "6202bb86-f43b-4188-f65a-3c116b4db4d7"
      },
      "source": [
        "df_temp"
      ],
      "execution_count": 20,
      "outputs": [
        {
          "output_type": "execute_result",
          "data": {
            "text/html": [
              "<div>\n",
              "<style scoped>\n",
              "    .dataframe tbody tr th:only-of-type {\n",
              "        vertical-align: middle;\n",
              "    }\n",
              "\n",
              "    .dataframe tbody tr th {\n",
              "        vertical-align: top;\n",
              "    }\n",
              "\n",
              "    .dataframe thead th {\n",
              "        text-align: right;\n",
              "    }\n",
              "</style>\n",
              "<table border=\"1\" class=\"dataframe\">\n",
              "  <thead>\n",
              "    <tr style=\"text-align: right;\">\n",
              "      <th></th>\n",
              "      <th>sentiment</th>\n",
              "      <th>text</th>\n",
              "    </tr>\n",
              "  </thead>\n",
              "  <tbody>\n",
              "    <tr>\n",
              "      <th>0</th>\n",
              "      <td>sadness</td>\n",
              "      <td>Layin n bed with a headache  ughhhh...waitin o...</td>\n",
              "    </tr>\n",
              "    <tr>\n",
              "      <th>1</th>\n",
              "      <td>sadness</td>\n",
              "      <td>Funeral ceremony...gloomy friday...</td>\n",
              "    </tr>\n",
              "    <tr>\n",
              "      <th>2</th>\n",
              "      <td>neutral</td>\n",
              "      <td>@dannycastillo We want to trade with someone w...</td>\n",
              "    </tr>\n",
              "    <tr>\n",
              "      <th>3</th>\n",
              "      <td>worry</td>\n",
              "      <td>Re-pinging @ghostridah14: why didn't you go to...</td>\n",
              "    </tr>\n",
              "    <tr>\n",
              "      <th>4</th>\n",
              "      <td>sadness</td>\n",
              "      <td>I should be sleep, but im not! thinking about ...</td>\n",
              "    </tr>\n",
              "    <tr>\n",
              "      <th>...</th>\n",
              "      <td>...</td>\n",
              "      <td>...</td>\n",
              "    </tr>\n",
              "    <tr>\n",
              "      <th>27576</th>\n",
              "      <td>neutral</td>\n",
              "      <td>@jasimmo Ooo showing of your French skills!! l...</td>\n",
              "    </tr>\n",
              "    <tr>\n",
              "      <th>27577</th>\n",
              "      <td>neutral</td>\n",
              "      <td>@sendsome2me haha, yeah. Twitter has many uses...</td>\n",
              "    </tr>\n",
              "    <tr>\n",
              "      <th>27578</th>\n",
              "      <td>happiness</td>\n",
              "      <td>Succesfully following Tayla!!</td>\n",
              "    </tr>\n",
              "    <tr>\n",
              "      <th>27579</th>\n",
              "      <td>neutral</td>\n",
              "      <td>@JohnLloydTaylor</td>\n",
              "    </tr>\n",
              "    <tr>\n",
              "      <th>27580</th>\n",
              "      <td>happiness</td>\n",
              "      <td>@niariley WASSUP BEAUTIFUL!!! FOLLOW ME!!  PEE...</td>\n",
              "    </tr>\n",
              "  </tbody>\n",
              "</table>\n",
              "<p>27581 rows × 2 columns</p>\n",
              "</div>"
            ],
            "text/plain": [
              "       sentiment                                               text\n",
              "0        sadness  Layin n bed with a headache  ughhhh...waitin o...\n",
              "1        sadness                Funeral ceremony...gloomy friday...\n",
              "2        neutral  @dannycastillo We want to trade with someone w...\n",
              "3          worry  Re-pinging @ghostridah14: why didn't you go to...\n",
              "4        sadness  I should be sleep, but im not! thinking about ...\n",
              "...          ...                                                ...\n",
              "27576    neutral  @jasimmo Ooo showing of your French skills!! l...\n",
              "27577    neutral  @sendsome2me haha, yeah. Twitter has many uses...\n",
              "27578  happiness                      Succesfully following Tayla!!\n",
              "27579    neutral                                   @JohnLloydTaylor\n",
              "27580  happiness  @niariley WASSUP BEAUTIFUL!!! FOLLOW ME!!  PEE...\n",
              "\n",
              "[27581 rows x 2 columns]"
            ]
          },
          "metadata": {
            "tags": []
          },
          "execution_count": 20
        }
      ]
    },
    {
      "cell_type": "markdown",
      "metadata": {
        "id": "rV2zEubViap1"
      },
      "source": [
        "### SMOTE For handling class imbalance"
      ]
    },
    {
      "cell_type": "code",
      "metadata": {
        "id": "n5452r4g_uRE"
      },
      "source": [
        "class_count_0, class_count_1, class_count_2, class_count_3, class_count_4 = df_temp.sentiment.value_counts()\n",
        "class_count_anger_updated = df_temp[df_temp['sentiment'] == 'anger'].sample(class_count_3,replace=True)\n",
        "class_count_anger_updated.reset_index(drop=True,inplace=True)"
      ],
      "execution_count": 21,
      "outputs": []
    },
    {
      "cell_type": "code",
      "metadata": {
        "id": "yJ2R1WYhEwhi"
      },
      "source": [
        "class_count_neutral = df_temp[df_temp['sentiment'] == 'neutral']\n",
        "class_count_worry = df_temp[df_temp['sentiment'] == 'worry']\n",
        "class_count_happiness = df_temp[df_temp['sentiment'] == 'happiness']\n",
        "class_count_sadness= df_temp[df_temp['sentiment'] == 'sadness']"
      ],
      "execution_count": 22,
      "outputs": []
    },
    {
      "cell_type": "code",
      "metadata": {
        "id": "SDXg8P34FKwH"
      },
      "source": [
        "df = pd.concat([class_count_neutral,class_count_worry,class_count_happiness,class_count_sadness,class_count_anger_updated],axis=0) "
      ],
      "execution_count": 23,
      "outputs": []
    },
    {
      "cell_type": "code",
      "metadata": {
        "colab": {
          "base_uri": "https://localhost:8080/"
        },
        "id": "0gmGo-PRFpLD",
        "outputId": "fa2c4a00-7314-4dcc-fd44-5ccf146de8c6"
      },
      "source": [
        "df.sentiment.value_counts()"
      ],
      "execution_count": 24,
      "outputs": [
        {
          "output_type": "execute_result",
          "data": {
            "text/plain": [
              "neutral      8638\n",
              "worry        8459\n",
              "happiness    5209\n",
              "anger        5165\n",
              "sadness      5165\n",
              "Name: sentiment, dtype: int64"
            ]
          },
          "metadata": {
            "tags": []
          },
          "execution_count": 24
        }
      ]
    },
    {
      "cell_type": "code",
      "metadata": {
        "colab": {
          "base_uri": "https://localhost:8080/",
          "height": 419
        },
        "id": "u6mGM_ZEFQ-l",
        "outputId": "764f2578-bf0f-4049-c252-af171aea12d9"
      },
      "source": [
        "df"
      ],
      "execution_count": 25,
      "outputs": [
        {
          "output_type": "execute_result",
          "data": {
            "text/html": [
              "<div>\n",
              "<style scoped>\n",
              "    .dataframe tbody tr th:only-of-type {\n",
              "        vertical-align: middle;\n",
              "    }\n",
              "\n",
              "    .dataframe tbody tr th {\n",
              "        vertical-align: top;\n",
              "    }\n",
              "\n",
              "    .dataframe thead th {\n",
              "        text-align: right;\n",
              "    }\n",
              "</style>\n",
              "<table border=\"1\" class=\"dataframe\">\n",
              "  <thead>\n",
              "    <tr style=\"text-align: right;\">\n",
              "      <th></th>\n",
              "      <th>sentiment</th>\n",
              "      <th>text</th>\n",
              "    </tr>\n",
              "  </thead>\n",
              "  <tbody>\n",
              "    <tr>\n",
              "      <th>2</th>\n",
              "      <td>neutral</td>\n",
              "      <td>@dannycastillo We want to trade with someone w...</td>\n",
              "    </tr>\n",
              "    <tr>\n",
              "      <th>8</th>\n",
              "      <td>neutral</td>\n",
              "      <td>cant fall asleep</td>\n",
              "    </tr>\n",
              "    <tr>\n",
              "      <th>17</th>\n",
              "      <td>neutral</td>\n",
              "      <td>No Topic Maps talks at the Balisage Markup Con...</td>\n",
              "    </tr>\n",
              "    <tr>\n",
              "      <th>25</th>\n",
              "      <td>neutral</td>\n",
              "      <td>@cynthia_123 i cant sleep</td>\n",
              "    </tr>\n",
              "    <tr>\n",
              "      <th>26</th>\n",
              "      <td>neutral</td>\n",
              "      <td>I missed the bl***y bus!!!!!!!!</td>\n",
              "    </tr>\n",
              "    <tr>\n",
              "      <th>...</th>\n",
              "      <td>...</td>\n",
              "      <td>...</td>\n",
              "    </tr>\n",
              "    <tr>\n",
              "      <th>5160</th>\n",
              "      <td>anger</td>\n",
              "      <td>@Buddy021193 i hear you.. it pisses me off haha</td>\n",
              "    </tr>\n",
              "    <tr>\n",
              "      <th>5161</th>\n",
              "      <td>anger</td>\n",
              "      <td>@paulmoxham everything is your fault moxy...ev...</td>\n",
              "    </tr>\n",
              "    <tr>\n",
              "      <th>5162</th>\n",
              "      <td>anger</td>\n",
              "      <td>@NerdIndian Take that back. I am insulted.</td>\n",
              "    </tr>\n",
              "    <tr>\n",
              "      <th>5163</th>\n",
              "      <td>anger</td>\n",
              "      <td>@paulmoxham everything is your fault moxy...ev...</td>\n",
              "    </tr>\n",
              "    <tr>\n",
              "      <th>5164</th>\n",
              "      <td>anger</td>\n",
              "      <td>seriously why did mum make me eat yeah i have ...</td>\n",
              "    </tr>\n",
              "  </tbody>\n",
              "</table>\n",
              "<p>32636 rows × 2 columns</p>\n",
              "</div>"
            ],
            "text/plain": [
              "     sentiment                                               text\n",
              "2      neutral  @dannycastillo We want to trade with someone w...\n",
              "8      neutral                                   cant fall asleep\n",
              "17     neutral  No Topic Maps talks at the Balisage Markup Con...\n",
              "25     neutral                          @cynthia_123 i cant sleep\n",
              "26     neutral                    I missed the bl***y bus!!!!!!!!\n",
              "...        ...                                                ...\n",
              "5160     anger    @Buddy021193 i hear you.. it pisses me off haha\n",
              "5161     anger  @paulmoxham everything is your fault moxy...ev...\n",
              "5162     anger         @NerdIndian Take that back. I am insulted.\n",
              "5163     anger  @paulmoxham everything is your fault moxy...ev...\n",
              "5164     anger  seriously why did mum make me eat yeah i have ...\n",
              "\n",
              "[32636 rows x 2 columns]"
            ]
          },
          "metadata": {
            "tags": []
          },
          "execution_count": 25
        }
      ]
    },
    {
      "cell_type": "code",
      "metadata": {
        "id": "6FhunKGxFQ7b"
      },
      "source": [
        "df.reset_index(drop = True, inplace= True)"
      ],
      "execution_count": 26,
      "outputs": []
    },
    {
      "cell_type": "code",
      "metadata": {
        "colab": {
          "base_uri": "https://localhost:8080/",
          "height": 419
        },
        "id": "TT9whrUqFQ43",
        "outputId": "31c2b584-5590-4dd7-c358-5c93d9c50353"
      },
      "source": [
        "df"
      ],
      "execution_count": 27,
      "outputs": [
        {
          "output_type": "execute_result",
          "data": {
            "text/html": [
              "<div>\n",
              "<style scoped>\n",
              "    .dataframe tbody tr th:only-of-type {\n",
              "        vertical-align: middle;\n",
              "    }\n",
              "\n",
              "    .dataframe tbody tr th {\n",
              "        vertical-align: top;\n",
              "    }\n",
              "\n",
              "    .dataframe thead th {\n",
              "        text-align: right;\n",
              "    }\n",
              "</style>\n",
              "<table border=\"1\" class=\"dataframe\">\n",
              "  <thead>\n",
              "    <tr style=\"text-align: right;\">\n",
              "      <th></th>\n",
              "      <th>sentiment</th>\n",
              "      <th>text</th>\n",
              "    </tr>\n",
              "  </thead>\n",
              "  <tbody>\n",
              "    <tr>\n",
              "      <th>0</th>\n",
              "      <td>neutral</td>\n",
              "      <td>@dannycastillo We want to trade with someone w...</td>\n",
              "    </tr>\n",
              "    <tr>\n",
              "      <th>1</th>\n",
              "      <td>neutral</td>\n",
              "      <td>cant fall asleep</td>\n",
              "    </tr>\n",
              "    <tr>\n",
              "      <th>2</th>\n",
              "      <td>neutral</td>\n",
              "      <td>No Topic Maps talks at the Balisage Markup Con...</td>\n",
              "    </tr>\n",
              "    <tr>\n",
              "      <th>3</th>\n",
              "      <td>neutral</td>\n",
              "      <td>@cynthia_123 i cant sleep</td>\n",
              "    </tr>\n",
              "    <tr>\n",
              "      <th>4</th>\n",
              "      <td>neutral</td>\n",
              "      <td>I missed the bl***y bus!!!!!!!!</td>\n",
              "    </tr>\n",
              "    <tr>\n",
              "      <th>...</th>\n",
              "      <td>...</td>\n",
              "      <td>...</td>\n",
              "    </tr>\n",
              "    <tr>\n",
              "      <th>32631</th>\n",
              "      <td>anger</td>\n",
              "      <td>@Buddy021193 i hear you.. it pisses me off haha</td>\n",
              "    </tr>\n",
              "    <tr>\n",
              "      <th>32632</th>\n",
              "      <td>anger</td>\n",
              "      <td>@paulmoxham everything is your fault moxy...ev...</td>\n",
              "    </tr>\n",
              "    <tr>\n",
              "      <th>32633</th>\n",
              "      <td>anger</td>\n",
              "      <td>@NerdIndian Take that back. I am insulted.</td>\n",
              "    </tr>\n",
              "    <tr>\n",
              "      <th>32634</th>\n",
              "      <td>anger</td>\n",
              "      <td>@paulmoxham everything is your fault moxy...ev...</td>\n",
              "    </tr>\n",
              "    <tr>\n",
              "      <th>32635</th>\n",
              "      <td>anger</td>\n",
              "      <td>seriously why did mum make me eat yeah i have ...</td>\n",
              "    </tr>\n",
              "  </tbody>\n",
              "</table>\n",
              "<p>32636 rows × 2 columns</p>\n",
              "</div>"
            ],
            "text/plain": [
              "      sentiment                                               text\n",
              "0       neutral  @dannycastillo We want to trade with someone w...\n",
              "1       neutral                                   cant fall asleep\n",
              "2       neutral  No Topic Maps talks at the Balisage Markup Con...\n",
              "3       neutral                          @cynthia_123 i cant sleep\n",
              "4       neutral                    I missed the bl***y bus!!!!!!!!\n",
              "...         ...                                                ...\n",
              "32631     anger    @Buddy021193 i hear you.. it pisses me off haha\n",
              "32632     anger  @paulmoxham everything is your fault moxy...ev...\n",
              "32633     anger         @NerdIndian Take that back. I am insulted.\n",
              "32634     anger  @paulmoxham everything is your fault moxy...ev...\n",
              "32635     anger  seriously why did mum make me eat yeah i have ...\n",
              "\n",
              "[32636 rows x 2 columns]"
            ]
          },
          "metadata": {
            "tags": []
          },
          "execution_count": 27
        }
      ]
    },
    {
      "cell_type": "code",
      "metadata": {
        "id": "qctFoUl2FuLZ"
      },
      "source": [
        "#Using Sentiment lexicons to be excluded from stopwords\n",
        "df_pos = pd.read_csv('/content/drive/MyDrive/Resources/lexicons/negative.csv')\n",
        "df_neg = pd.read_csv('/content/drive/MyDrive/Resources/lexicons/positive.csv')"
      ],
      "execution_count": 29,
      "outputs": []
    },
    {
      "cell_type": "markdown",
      "metadata": {
        "id": "enTDVqxyFu6z"
      },
      "source": [
        "### Data Cleaning"
      ]
    },
    {
      "cell_type": "code",
      "metadata": {
        "id": "svGeRXqaFebO"
      },
      "source": [
        "def expand_text(text):\n",
        "    text = text.lower()\n",
        "    text = text.replace(\"`\",\"'\")\n",
        "    \n",
        "    #Expand Contractions\n",
        "    contraction_dict = contraction_map\n",
        "    contraction_keys = list(contraction_dict.keys())\n",
        "    \n",
        "    for word in text.split():\n",
        "        if word in contraction_keys:\n",
        "            text = text.replace(word, contraction_dict[word])\n",
        "        else:\n",
        "            continue\n",
        "    \n",
        "    return text    "
      ],
      "execution_count": 30,
      "outputs": []
    },
    {
      "cell_type": "code",
      "metadata": {
        "id": "jNpYidVpZffE"
      },
      "source": [
        "def clean_text(text):\n",
        "    text = text.translate(string.punctuation)\n",
        "    text = text.lower().split()\n",
        "    \n",
        "    df_pos_words = list(df_pos.words)\n",
        "    df_neg_words = list(df_neg.words)\n",
        "    \n",
        "    positive = []\n",
        "    for i in range(0,len(df_pos_words)):\n",
        "        positive.append(df_pos_words[i].lower().replace(\" \",\"\"))\n",
        "        \n",
        "    negative = []\n",
        "    for i in range(0,len(df_neg_words)):\n",
        "        negative.append(df_neg_words[i].lower().replace(\" \",\"\"))\n",
        "        \n",
        "    pos_set = set(positive)\n",
        "    neg_set = set(negative)\n",
        "    \n",
        "    keywords = set([\"above\",\"and\",\"below\",\"not\"])\n",
        "    \n",
        "    keywords.update(pos_set)\n",
        "    keywords.update(neg_set)\n",
        "    \n",
        "    stopwords_set = set(stopwords.words('english'))\n",
        "    stops = stopwords_set - keywords\n",
        "    \n",
        "    \n",
        "    text = [w for w in text if not w in stops]\n",
        "    text = \" \".join(text)\n",
        "    \n",
        "    text = re.sub(r\"[^A-Za-z0-9^,!./\\'+-=]\",\" \",text)\n",
        "    text = re.sub(r\"what's\",\"what is\",text)\n",
        "    text = re.sub(r\"\\'s\",\" \",text)\n",
        "    text = re.sub(r\"\\'ve\",\" have \",text)\n",
        "    text = re.sub(r\"n't\",\" not \",text)\n",
        "    text = re.sub(r\"i'm\",\" i am \",text)\n",
        "    text = re.sub(r\"\\'re\",\" are \",text)\n",
        "    text = re.sub(r\"\\'d\", \" would \",text)\n",
        "    text = re.sub(r\"\\'ll\", \" will \",text)\n",
        "    text = re.sub(r\",\",\" \",text)\n",
        "    text = re.sub(r\"\\.\",\" \",text)\n",
        "    text = re.sub(r\"!\",\" ! \",text)\n",
        "    text = re.sub(r\"\\/\",\" \",text)\n",
        "    text = re.sub(r\"\\^\",\" ^ \",text)\n",
        "    text = re.sub(r\"\\+\",\" + \",text)\n",
        "    text = re.sub(r\"\\-\",\" - \",text)\n",
        "    text = re.sub(r\"\\=\",\" = \",text)\n",
        "    text = re.sub(r\"'\",\" \",text)\n",
        "    text = re.sub(r\"(\\d+)(k)\",r\"\\g<1>000\",text)\n",
        "    text = re.sub(r\":\", \" : \",text)\n",
        "    text = re.sub(r\" e g \",\" eg \",text)\n",
        "    text = re.sub(r\"b g \",\" bg \",text)\n",
        "    text = re.sub(r\" u s \",\" american \",text)\n",
        "    text = re.sub(r\"\\0s\",\"0\",text)\n",
        "    text = re.sub(r\"e - mail\",\"email\",text)\n",
        "    text = re.sub(r\"\\s{2,}\",\" \",text)\n",
        "    \n",
        "    text = text.split()\n",
        "    lemmatizer = WordNetLemmatizer()\n",
        "    lemmatized_words = [lemmatizer.lemmatize(word) for word in text]\n",
        "    text = \" \".join(lemmatized_words)\n",
        "    \n",
        "    return text"
      ],
      "execution_count": 31,
      "outputs": []
    },
    {
      "cell_type": "code",
      "metadata": {
        "colab": {
          "base_uri": "https://localhost:8080/",
          "height": 419
        },
        "id": "OQU0QBY-Zjxa",
        "outputId": "144d6de3-bb99-4fd3-c95f-53056b66e4d5"
      },
      "source": [
        "df"
      ],
      "execution_count": 32,
      "outputs": [
        {
          "output_type": "execute_result",
          "data": {
            "text/html": [
              "<div>\n",
              "<style scoped>\n",
              "    .dataframe tbody tr th:only-of-type {\n",
              "        vertical-align: middle;\n",
              "    }\n",
              "\n",
              "    .dataframe tbody tr th {\n",
              "        vertical-align: top;\n",
              "    }\n",
              "\n",
              "    .dataframe thead th {\n",
              "        text-align: right;\n",
              "    }\n",
              "</style>\n",
              "<table border=\"1\" class=\"dataframe\">\n",
              "  <thead>\n",
              "    <tr style=\"text-align: right;\">\n",
              "      <th></th>\n",
              "      <th>sentiment</th>\n",
              "      <th>text</th>\n",
              "    </tr>\n",
              "  </thead>\n",
              "  <tbody>\n",
              "    <tr>\n",
              "      <th>0</th>\n",
              "      <td>neutral</td>\n",
              "      <td>@dannycastillo We want to trade with someone w...</td>\n",
              "    </tr>\n",
              "    <tr>\n",
              "      <th>1</th>\n",
              "      <td>neutral</td>\n",
              "      <td>cant fall asleep</td>\n",
              "    </tr>\n",
              "    <tr>\n",
              "      <th>2</th>\n",
              "      <td>neutral</td>\n",
              "      <td>No Topic Maps talks at the Balisage Markup Con...</td>\n",
              "    </tr>\n",
              "    <tr>\n",
              "      <th>3</th>\n",
              "      <td>neutral</td>\n",
              "      <td>@cynthia_123 i cant sleep</td>\n",
              "    </tr>\n",
              "    <tr>\n",
              "      <th>4</th>\n",
              "      <td>neutral</td>\n",
              "      <td>I missed the bl***y bus!!!!!!!!</td>\n",
              "    </tr>\n",
              "    <tr>\n",
              "      <th>...</th>\n",
              "      <td>...</td>\n",
              "      <td>...</td>\n",
              "    </tr>\n",
              "    <tr>\n",
              "      <th>32631</th>\n",
              "      <td>anger</td>\n",
              "      <td>@Buddy021193 i hear you.. it pisses me off haha</td>\n",
              "    </tr>\n",
              "    <tr>\n",
              "      <th>32632</th>\n",
              "      <td>anger</td>\n",
              "      <td>@paulmoxham everything is your fault moxy...ev...</td>\n",
              "    </tr>\n",
              "    <tr>\n",
              "      <th>32633</th>\n",
              "      <td>anger</td>\n",
              "      <td>@NerdIndian Take that back. I am insulted.</td>\n",
              "    </tr>\n",
              "    <tr>\n",
              "      <th>32634</th>\n",
              "      <td>anger</td>\n",
              "      <td>@paulmoxham everything is your fault moxy...ev...</td>\n",
              "    </tr>\n",
              "    <tr>\n",
              "      <th>32635</th>\n",
              "      <td>anger</td>\n",
              "      <td>seriously why did mum make me eat yeah i have ...</td>\n",
              "    </tr>\n",
              "  </tbody>\n",
              "</table>\n",
              "<p>32636 rows × 2 columns</p>\n",
              "</div>"
            ],
            "text/plain": [
              "      sentiment                                               text\n",
              "0       neutral  @dannycastillo We want to trade with someone w...\n",
              "1       neutral                                   cant fall asleep\n",
              "2       neutral  No Topic Maps talks at the Balisage Markup Con...\n",
              "3       neutral                          @cynthia_123 i cant sleep\n",
              "4       neutral                    I missed the bl***y bus!!!!!!!!\n",
              "...         ...                                                ...\n",
              "32631     anger    @Buddy021193 i hear you.. it pisses me off haha\n",
              "32632     anger  @paulmoxham everything is your fault moxy...ev...\n",
              "32633     anger         @NerdIndian Take that back. I am insulted.\n",
              "32634     anger  @paulmoxham everything is your fault moxy...ev...\n",
              "32635     anger  seriously why did mum make me eat yeah i have ...\n",
              "\n",
              "[32636 rows x 2 columns]"
            ]
          },
          "metadata": {
            "tags": []
          },
          "execution_count": 32
        }
      ]
    },
    {
      "cell_type": "code",
      "metadata": {
        "colab": {
          "base_uri": "https://localhost:8080/",
          "height": 66,
          "referenced_widgets": [
            "1adc192c4c3d4295af5c720a76b7b5f1",
            "dd71122aa0d74fff8afba83c40cd719a",
            "55e95795b16646dd96bc5a746aee487f",
            "c0b8b2e9a91b4e94808b68b11cd3287d",
            "8aa29925ee9c445b995a24393b08ed0c",
            "e5a079879e0c4ccd8d8e791a716b36fa",
            "ff6006e5349249fe96612a74d2852f06",
            "50552ca39b064e829c1624b227be7e77"
          ]
        },
        "id": "6y0Sa4FfahOG",
        "outputId": "9a932fe6-55f1-4a27-814a-23cba63f3d94"
      },
      "source": [
        "df['text'] = df['text'].progress_apply(lambda x : expand_text(x))"
      ],
      "execution_count": 33,
      "outputs": [
        {
          "output_type": "display_data",
          "data": {
            "application/vnd.jupyter.widget-view+json": {
              "model_id": "1adc192c4c3d4295af5c720a76b7b5f1",
              "version_minor": 0,
              "version_major": 2
            },
            "text/plain": [
              "HBox(children=(FloatProgress(value=0.0, max=32636.0), HTML(value='')))"
            ]
          },
          "metadata": {
            "tags": []
          }
        },
        {
          "output_type": "stream",
          "text": [
            "\n"
          ],
          "name": "stdout"
        }
      ]
    },
    {
      "cell_type": "code",
      "metadata": {
        "colab": {
          "base_uri": "https://localhost:8080/"
        },
        "id": "sXoUVlv0albJ",
        "outputId": "2ef7c830-5128-47e9-84f6-8a21389243b1"
      },
      "source": [
        "nltk.download('wordnet')\n",
        "nltk.download('stopwords')"
      ],
      "execution_count": 34,
      "outputs": [
        {
          "output_type": "stream",
          "text": [
            "[nltk_data] Downloading package wordnet to /root/nltk_data...\n",
            "[nltk_data]   Package wordnet is already up-to-date!\n",
            "[nltk_data] Downloading package stopwords to /root/nltk_data...\n",
            "[nltk_data]   Package stopwords is already up-to-date!\n"
          ],
          "name": "stdout"
        },
        {
          "output_type": "execute_result",
          "data": {
            "text/plain": [
              "True"
            ]
          },
          "metadata": {
            "tags": []
          },
          "execution_count": 34
        }
      ]
    },
    {
      "cell_type": "code",
      "metadata": {
        "colab": {
          "base_uri": "https://localhost:8080/",
          "height": 66,
          "referenced_widgets": [
            "ea981c10f3eb4902851b073166db5ad3",
            "e5d85d5cef934c478e1ca35fbee86e27",
            "1231fda3c8a847289ae989edfd2e8262",
            "29ac75b4f6d9447dbbbceabdc975665a",
            "2640cbd1fd024dc7a661a2a058246248",
            "226db84aa6524c61b28205162a58c6b9",
            "1318ef48c2ed412da1fc191c0ac0a832",
            "7884cf3e7f6b4aa490348c579c51307e"
          ]
        },
        "id": "WmzniONUb6Vp",
        "outputId": "3dd0bb7f-09ea-43e8-da0c-5935d7f93127"
      },
      "source": [
        "df['text'] = df['text'].progress_apply(lambda x: clean_text(x))"
      ],
      "execution_count": 35,
      "outputs": [
        {
          "output_type": "display_data",
          "data": {
            "application/vnd.jupyter.widget-view+json": {
              "model_id": "ea981c10f3eb4902851b073166db5ad3",
              "version_minor": 0,
              "version_major": 2
            },
            "text/plain": [
              "HBox(children=(FloatProgress(value=0.0, max=32636.0), HTML(value='')))"
            ]
          },
          "metadata": {
            "tags": []
          }
        },
        {
          "output_type": "stream",
          "text": [
            "\n"
          ],
          "name": "stdout"
        }
      ]
    },
    {
      "cell_type": "code",
      "metadata": {
        "id": "NWgNZ5AJb2Us",
        "colab": {
          "base_uri": "https://localhost:8080/",
          "height": 419
        },
        "outputId": "534c6d32-824a-4ca7-f702-d3016b521540"
      },
      "source": [
        "df"
      ],
      "execution_count": 36,
      "outputs": [
        {
          "output_type": "execute_result",
          "data": {
            "text/html": [
              "<div>\n",
              "<style scoped>\n",
              "    .dataframe tbody tr th:only-of-type {\n",
              "        vertical-align: middle;\n",
              "    }\n",
              "\n",
              "    .dataframe tbody tr th {\n",
              "        vertical-align: top;\n",
              "    }\n",
              "\n",
              "    .dataframe thead th {\n",
              "        text-align: right;\n",
              "    }\n",
              "</style>\n",
              "<table border=\"1\" class=\"dataframe\">\n",
              "  <thead>\n",
              "    <tr style=\"text-align: right;\">\n",
              "      <th></th>\n",
              "      <th>sentiment</th>\n",
              "      <th>text</th>\n",
              "    </tr>\n",
              "  </thead>\n",
              "  <tbody>\n",
              "    <tr>\n",
              "      <th>0</th>\n",
              "      <td>neutral</td>\n",
              "      <td>dannycastillo want trade someone houston ticke...</td>\n",
              "    </tr>\n",
              "    <tr>\n",
              "      <th>1</th>\n",
              "      <td>neutral</td>\n",
              "      <td>cant fall asleep</td>\n",
              "    </tr>\n",
              "    <tr>\n",
              "      <th>2</th>\n",
              "      <td>neutral</td>\n",
              "      <td>topic map talk balisage markup conference 2009...</td>\n",
              "    </tr>\n",
              "    <tr>\n",
              "      <th>3</th>\n",
              "      <td>neutral</td>\n",
              "      <td>cynthia 123 cant sleep</td>\n",
              "    </tr>\n",
              "    <tr>\n",
              "      <th>4</th>\n",
              "      <td>neutral</td>\n",
              "      <td>missed bl y bus ! ! ! ! ! ! ! !</td>\n",
              "    </tr>\n",
              "    <tr>\n",
              "      <th>...</th>\n",
              "      <td>...</td>\n",
              "      <td>...</td>\n",
              "    </tr>\n",
              "    <tr>\n",
              "      <th>32631</th>\n",
              "      <td>anger</td>\n",
              "      <td>buddy021193 hear you piss haha</td>\n",
              "    </tr>\n",
              "    <tr>\n",
              "      <th>32632</th>\n",
              "      <td>anger</td>\n",
              "      <td>paulmoxham everything fault moxy everything x</td>\n",
              "    </tr>\n",
              "    <tr>\n",
              "      <th>32633</th>\n",
              "      <td>anger</td>\n",
              "      <td>nerdindian take back insulted</td>\n",
              "    </tr>\n",
              "    <tr>\n",
              "      <th>32634</th>\n",
              "      <td>anger</td>\n",
              "      <td>paulmoxham everything fault moxy everything x</td>\n",
              "    </tr>\n",
              "    <tr>\n",
              "      <th>32635</th>\n",
              "      <td>anger</td>\n",
              "      <td>seriously mum make eat yeah weird eating habit...</td>\n",
              "    </tr>\n",
              "  </tbody>\n",
              "</table>\n",
              "<p>32636 rows × 2 columns</p>\n",
              "</div>"
            ],
            "text/plain": [
              "      sentiment                                               text\n",
              "0       neutral  dannycastillo want trade someone houston ticke...\n",
              "1       neutral                                   cant fall asleep\n",
              "2       neutral  topic map talk balisage markup conference 2009...\n",
              "3       neutral                             cynthia 123 cant sleep\n",
              "4       neutral                    missed bl y bus ! ! ! ! ! ! ! !\n",
              "...         ...                                                ...\n",
              "32631     anger                     buddy021193 hear you piss haha\n",
              "32632     anger      paulmoxham everything fault moxy everything x\n",
              "32633     anger                      nerdindian take back insulted\n",
              "32634     anger      paulmoxham everything fault moxy everything x\n",
              "32635     anger  seriously mum make eat yeah weird eating habit...\n",
              "\n",
              "[32636 rows x 2 columns]"
            ]
          },
          "metadata": {
            "tags": []
          },
          "execution_count": 36
        }
      ]
    },
    {
      "cell_type": "code",
      "metadata": {
        "id": "fFBZJ7jGcCdm"
      },
      "source": [
        "df = df.sample(frac=1)"
      ],
      "execution_count": 37,
      "outputs": []
    },
    {
      "cell_type": "code",
      "metadata": {
        "id": "wv2lZDolcKov"
      },
      "source": [
        "df.reset_index(drop=True,inplace=True)"
      ],
      "execution_count": 38,
      "outputs": []
    },
    {
      "cell_type": "code",
      "metadata": {
        "id": "ukEO9rmvcM4-",
        "colab": {
          "base_uri": "https://localhost:8080/",
          "height": 419
        },
        "outputId": "4a261b82-bccb-435d-e579-24e5745cad0f"
      },
      "source": [
        "df"
      ],
      "execution_count": 39,
      "outputs": [
        {
          "output_type": "execute_result",
          "data": {
            "text/html": [
              "<div>\n",
              "<style scoped>\n",
              "    .dataframe tbody tr th:only-of-type {\n",
              "        vertical-align: middle;\n",
              "    }\n",
              "\n",
              "    .dataframe tbody tr th {\n",
              "        vertical-align: top;\n",
              "    }\n",
              "\n",
              "    .dataframe thead th {\n",
              "        text-align: right;\n",
              "    }\n",
              "</style>\n",
              "<table border=\"1\" class=\"dataframe\">\n",
              "  <thead>\n",
              "    <tr style=\"text-align: right;\">\n",
              "      <th></th>\n",
              "      <th>sentiment</th>\n",
              "      <th>text</th>\n",
              "    </tr>\n",
              "  </thead>\n",
              "  <tbody>\n",
              "    <tr>\n",
              "      <th>0</th>\n",
              "      <td>happiness</td>\n",
              "      <td>loving phuket melai and badette coming home so...</td>\n",
              "    </tr>\n",
              "    <tr>\n",
              "      <th>1</th>\n",
              "      <td>neutral</td>\n",
              "      <td>uploaded run onto nikeplus com run row row run...</td>\n",
              "    </tr>\n",
              "    <tr>\n",
              "      <th>2</th>\n",
              "      <td>worry</td>\n",
              "      <td>feeling like want cry dont get empty feeling s...</td>\n",
              "    </tr>\n",
              "    <tr>\n",
              "      <th>3</th>\n",
              "      <td>worry</td>\n",
              "      <td>saharabloom not all !</td>\n",
              "    </tr>\n",
              "    <tr>\n",
              "      <th>4</th>\n",
              "      <td>sadness</td>\n",
              "      <td>mmmm ham yummy ! hat hair stupid deli</td>\n",
              "    </tr>\n",
              "    <tr>\n",
              "      <th>...</th>\n",
              "      <td>...</td>\n",
              "      <td>...</td>\n",
              "    </tr>\n",
              "    <tr>\n",
              "      <th>32631</th>\n",
              "      <td>anger</td>\n",
              "      <td>grabbing snack and drink chili power went out ...</td>\n",
              "    </tr>\n",
              "    <tr>\n",
              "      <th>32632</th>\n",
              "      <td>happiness</td>\n",
              "      <td>639 baby ! god sad really oh well life partaaa...</td>\n",
              "    </tr>\n",
              "    <tr>\n",
              "      <th>32633</th>\n",
              "      <td>worry</td>\n",
              "      <td>biggboymgmt alright alright ! tuning and takin...</td>\n",
              "    </tr>\n",
              "    <tr>\n",
              "      <th>32634</th>\n",
              "      <td>happiness</td>\n",
              "      <td>featureblend thanks intro great meet u twitter</td>\n",
              "    </tr>\n",
              "    <tr>\n",
              "      <th>32635</th>\n",
              "      <td>neutral</td>\n",
              "      <td>miss laughing till stomache hurt</td>\n",
              "    </tr>\n",
              "  </tbody>\n",
              "</table>\n",
              "<p>32636 rows × 2 columns</p>\n",
              "</div>"
            ],
            "text/plain": [
              "       sentiment                                               text\n",
              "0      happiness  loving phuket melai and badette coming home so...\n",
              "1        neutral  uploaded run onto nikeplus com run row row run...\n",
              "2          worry  feeling like want cry dont get empty feeling s...\n",
              "3          worry                              saharabloom not all !\n",
              "4        sadness              mmmm ham yummy ! hat hair stupid deli\n",
              "...          ...                                                ...\n",
              "32631      anger  grabbing snack and drink chili power went out ...\n",
              "32632  happiness  639 baby ! god sad really oh well life partaaa...\n",
              "32633      worry  biggboymgmt alright alright ! tuning and takin...\n",
              "32634  happiness     featureblend thanks intro great meet u twitter\n",
              "32635    neutral                   miss laughing till stomache hurt\n",
              "\n",
              "[32636 rows x 2 columns]"
            ]
          },
          "metadata": {
            "tags": []
          },
          "execution_count": 39
        }
      ]
    },
    {
      "cell_type": "markdown",
      "metadata": {
        "id": "iwLM7MI8cXKX"
      },
      "source": [
        "### Create Tokenizer"
      ]
    },
    {
      "cell_type": "code",
      "metadata": {
        "colab": {
          "base_uri": "https://localhost:8080/"
        },
        "id": "he4KEI2tcWXU",
        "outputId": "ed689462-aa16-4641-b169-35101371c2d8"
      },
      "source": [
        "tokenizer = Tokenizer()\n",
        "tokenizer.fit_on_texts(df['text'])\n",
        "vocab_size = len(tokenizer.word_index)+1\n",
        "print(vocab_size)"
      ],
      "execution_count": 40,
      "outputs": [
        {
          "output_type": "stream",
          "text": [
            "34512\n"
          ],
          "name": "stdout"
        }
      ]
    },
    {
      "cell_type": "code",
      "metadata": {
        "id": "2PvBYswycWUg"
      },
      "source": [
        "sequences = tokenizer.texts_to_sequences(df['text'])\n",
        "data = pad_sequences(sequences,maxlen=50)"
      ],
      "execution_count": 41,
      "outputs": []
    },
    {
      "cell_type": "markdown",
      "metadata": {
        "id": "RGn2vGAvcmJY"
      },
      "source": [
        "### Word Embeddings Fasttext"
      ]
    },
    {
      "cell_type": "code",
      "metadata": {
        "colab": {
          "base_uri": "https://localhost:8080/"
        },
        "id": "buGttA4R9NHq",
        "outputId": "de8aef88-4b95-4949-a953-88aaa8f75568"
      },
      "source": [
        "!wget https://dl.fbaipublicfiles.com/fasttext/vectors-english/wiki-news-300d-1M-subword.vec.zip"
      ],
      "execution_count": 42,
      "outputs": [
        {
          "output_type": "stream",
          "text": [
            "--2021-08-04 14:58:26--  https://dl.fbaipublicfiles.com/fasttext/vectors-english/wiki-news-300d-1M-subword.vec.zip\n",
            "Resolving dl.fbaipublicfiles.com (dl.fbaipublicfiles.com)... 172.67.9.4, 104.22.74.142, 104.22.75.142, ...\n",
            "Connecting to dl.fbaipublicfiles.com (dl.fbaipublicfiles.com)|172.67.9.4|:443... connected.\n",
            "HTTP request sent, awaiting response... 200 OK\n",
            "Length: 587879973 (561M) [application/zip]\n",
            "Saving to: ‘wiki-news-300d-1M-subword.vec.zip’\n",
            "\n",
            "wiki-news-300d-1M-s 100%[===================>] 560.65M  33.6MB/s    in 16s     \n",
            "\n",
            "2021-08-04 14:58:43 (35.1 MB/s) - ‘wiki-news-300d-1M-subword.vec.zip’ saved [587879973/587879973]\n",
            "\n"
          ],
          "name": "stdout"
        }
      ]
    },
    {
      "cell_type": "code",
      "metadata": {
        "colab": {
          "base_uri": "https://localhost:8080/"
        },
        "id": "jyWawjeNXcoR",
        "outputId": "36f79fb3-13d5-4a1c-d863-63058c132050"
      },
      "source": [
        "!unzip wiki-news-300d-1M-subword.vec.zip"
      ],
      "execution_count": 43,
      "outputs": [
        {
          "output_type": "stream",
          "text": [
            "Archive:  wiki-news-300d-1M-subword.vec.zip\n",
            "  inflating: wiki-news-300d-1M-subword.vec  \n"
          ],
          "name": "stdout"
        }
      ]
    },
    {
      "cell_type": "code",
      "metadata": {
        "id": "RXYcrdCKcljH"
      },
      "source": [
        "embeddings_index = {}\n",
        "f = open('wiki-news-300d-1M-subword.vec',encoding='utf-8')\n",
        "for line in f:\n",
        "    values = line.split()\n",
        "    word = values[0]\n",
        "    coefs = np.asarray(values[1:],dtype=\"float32\")\n",
        "    embeddings_index[word] = coefs\n",
        "f.close()"
      ],
      "execution_count": 44,
      "outputs": []
    },
    {
      "cell_type": "markdown",
      "metadata": {
        "id": "3HzjTXRtgXX6"
      },
      "source": [
        "### Create a weight matrix "
      ]
    },
    {
      "cell_type": "code",
      "metadata": {
        "id": "ZAp6yxmcgVNa"
      },
      "source": [
        "embedding_matrix = np.zeros((vocab_size,300))\n",
        "for word,index in tokenizer.word_index.items():\n",
        "    if index > vocab_size -1:\n",
        "        break\n",
        "    else:\n",
        "        embedding_vector = embeddings_index.get(word)\n",
        "        if embedding_vector is not None:\n",
        "            embedding_matrix[index] = embedding_vector "
      ],
      "execution_count": 45,
      "outputs": []
    },
    {
      "cell_type": "markdown",
      "metadata": {
        "id": "sYULCxlQgcpz"
      },
      "source": [
        "### Model Building"
      ]
    },
    {
      "cell_type": "code",
      "metadata": {
        "id": "lr7KNif6cWRz"
      },
      "source": [
        "max_len = 50"
      ],
      "execution_count": 46,
      "outputs": []
    },
    {
      "cell_type": "code",
      "metadata": {
        "id": "9Bk_Ri5-glm0"
      },
      "source": [
        "es = EarlyStopping(monitor='val_loss',verbose=1,patience=10)\n",
        "mc = ModelCheckpoint('./saved_models/best_model.h5',save_best_only=True,verbose=1)"
      ],
      "execution_count": 47,
      "outputs": []
    },
    {
      "cell_type": "code",
      "metadata": {
        "colab": {
          "base_uri": "https://localhost:8080/"
        },
        "id": "LaUt6mnsgmqY",
        "outputId": "c3832bde-2795-437d-c823-a598201bc60f"
      },
      "source": [
        "df['sentiment'].value_counts()"
      ],
      "execution_count": 48,
      "outputs": [
        {
          "output_type": "execute_result",
          "data": {
            "text/plain": [
              "neutral      8638\n",
              "worry        8459\n",
              "happiness    5209\n",
              "anger        5165\n",
              "sadness      5165\n",
              "Name: sentiment, dtype: int64"
            ]
          },
          "metadata": {
            "tags": []
          },
          "execution_count": 48
        }
      ]
    },
    {
      "cell_type": "markdown",
      "metadata": {
        "id": "_JqV31_GgrqN"
      },
      "source": [
        "### Test layers"
      ]
    },
    {
      "cell_type": "code",
      "metadata": {
        "id": "gB0_RwJDgsR8"
      },
      "source": [
        "model_lstm = Sequential()\n",
        "model_lstm.add(Embedding(vocab_size,300,weights=[embedding_matrix],input_length=max_len,trainable=False))\n",
        "model_lstm.add(LSTM(128,dropout=0.5))\n",
        "model_lstm.add(Dense(100,activation='relu'))\n",
        "model_lstm.add(Dense(100,activation='relu'))\n",
        "model_lstm.add(Dense(5,activation='softmax'))\n",
        "model_lstm.compile(loss='categorical_crossentropy',optimizer='rmsprop',metrics=['accuracy'])"
      ],
      "execution_count": 49,
      "outputs": []
    },
    {
      "cell_type": "code",
      "metadata": {
        "colab": {
          "base_uri": "https://localhost:8080/"
        },
        "id": "EA-sA0MKgpX5",
        "outputId": "41541879-6bbf-47bb-dc33-72efa8549e93"
      },
      "source": [
        "model_lstm.summary()"
      ],
      "execution_count": 50,
      "outputs": [
        {
          "output_type": "stream",
          "text": [
            "Model: \"sequential\"\n",
            "_________________________________________________________________\n",
            "Layer (type)                 Output Shape              Param #   \n",
            "=================================================================\n",
            "embedding (Embedding)        (None, 50, 300)           10353600  \n",
            "_________________________________________________________________\n",
            "lstm (LSTM)                  (None, 128)               219648    \n",
            "_________________________________________________________________\n",
            "dense (Dense)                (None, 100)               12900     \n",
            "_________________________________________________________________\n",
            "dense_1 (Dense)              (None, 100)               10100     \n",
            "_________________________________________________________________\n",
            "dense_2 (Dense)              (None, 5)                 505       \n",
            "=================================================================\n",
            "Total params: 10,596,753\n",
            "Trainable params: 243,153\n",
            "Non-trainable params: 10,353,600\n",
            "_________________________________________________________________\n"
          ],
          "name": "stdout"
        }
      ]
    },
    {
      "cell_type": "code",
      "metadata": {
        "id": "SPTbaX01g1jY"
      },
      "source": [
        "from sklearn.preprocessing import LabelEncoder\n",
        "encoder = LabelEncoder()\n",
        "labels = encoder.fit_transform(df['sentiment'])\n",
        "labels = to_categorical(labels)"
      ],
      "execution_count": 51,
      "outputs": []
    },
    {
      "cell_type": "code",
      "metadata": {
        "colab": {
          "base_uri": "https://localhost:8080/"
        },
        "id": "LDTIUsptg3hY",
        "outputId": "5985592b-6801-426f-e9bf-0f2b1280998f"
      },
      "source": [
        "model_lstm.fit(data,labels,validation_split=0.1,epochs=20)"
      ],
      "execution_count": 52,
      "outputs": [
        {
          "output_type": "stream",
          "text": [
            "Epoch 1/20\n",
            "918/918 [==============================] - 30s 9ms/step - loss: 1.4970 - accuracy: 0.3394 - val_loss: 1.2081 - val_accuracy: 0.4951\n",
            "Epoch 2/20\n",
            "918/918 [==============================] - 7s 8ms/step - loss: 1.2626 - accuracy: 0.4604 - val_loss: 1.0975 - val_accuracy: 0.5233\n",
            "Epoch 3/20\n",
            "918/918 [==============================] - 7s 7ms/step - loss: 1.1610 - accuracy: 0.4943 - val_loss: 1.0421 - val_accuracy: 0.5319\n",
            "Epoch 4/20\n",
            "918/918 [==============================] - 7s 7ms/step - loss: 1.0924 - accuracy: 0.5234 - val_loss: 1.0127 - val_accuracy: 0.5444\n",
            "Epoch 5/20\n",
            "918/918 [==============================] - 6s 7ms/step - loss: 1.0587 - accuracy: 0.5296 - val_loss: 1.0267 - val_accuracy: 0.5355\n",
            "Epoch 6/20\n",
            "918/918 [==============================] - 6s 7ms/step - loss: 1.0302 - accuracy: 0.5392 - val_loss: 1.0075 - val_accuracy: 0.5478\n",
            "Epoch 7/20\n",
            "918/918 [==============================] - 6s 7ms/step - loss: 1.0130 - accuracy: 0.5536 - val_loss: 0.9875 - val_accuracy: 0.5555\n",
            "Epoch 8/20\n",
            "918/918 [==============================] - 6s 7ms/step - loss: 1.0085 - accuracy: 0.5500 - val_loss: 0.9814 - val_accuracy: 0.5597\n",
            "Epoch 9/20\n",
            "918/918 [==============================] - 7s 8ms/step - loss: 1.0011 - accuracy: 0.5577 - val_loss: 0.9855 - val_accuracy: 0.5591\n",
            "Epoch 10/20\n",
            "918/918 [==============================] - 7s 8ms/step - loss: 0.9800 - accuracy: 0.5634 - val_loss: 0.9865 - val_accuracy: 0.5564\n",
            "Epoch 11/20\n",
            "918/918 [==============================] - 7s 8ms/step - loss: 0.9930 - accuracy: 0.5558 - val_loss: 0.9789 - val_accuracy: 0.5551\n",
            "Epoch 12/20\n",
            "918/918 [==============================] - 7s 8ms/step - loss: 0.9787 - accuracy: 0.5692 - val_loss: 0.9878 - val_accuracy: 0.5558\n",
            "Epoch 13/20\n",
            "918/918 [==============================] - 7s 7ms/step - loss: 0.9639 - accuracy: 0.5766 - val_loss: 0.9816 - val_accuracy: 0.5570\n",
            "Epoch 14/20\n",
            "918/918 [==============================] - 7s 8ms/step - loss: 0.9608 - accuracy: 0.5725 - val_loss: 0.9960 - val_accuracy: 0.5591\n",
            "Epoch 15/20\n",
            "918/918 [==============================] - 6s 7ms/step - loss: 0.9547 - accuracy: 0.5726 - val_loss: 0.9820 - val_accuracy: 0.5588\n",
            "Epoch 16/20\n",
            "918/918 [==============================] - 6s 7ms/step - loss: 0.9532 - accuracy: 0.5842 - val_loss: 0.9766 - val_accuracy: 0.5619\n",
            "Epoch 17/20\n",
            "918/918 [==============================] - 6s 7ms/step - loss: 0.9441 - accuracy: 0.5809 - val_loss: 0.9825 - val_accuracy: 0.5570\n",
            "Epoch 18/20\n",
            "918/918 [==============================] - 6s 7ms/step - loss: 0.9365 - accuracy: 0.5896 - val_loss: 0.9905 - val_accuracy: 0.5561\n",
            "Epoch 19/20\n",
            "918/918 [==============================] - 7s 8ms/step - loss: 0.9341 - accuracy: 0.5886 - val_loss: 0.9880 - val_accuracy: 0.5582\n",
            "Epoch 20/20\n",
            "918/918 [==============================] - 7s 8ms/step - loss: 0.9235 - accuracy: 0.5969 - val_loss: 0.9883 - val_accuracy: 0.5708\n"
          ],
          "name": "stdout"
        },
        {
          "output_type": "execute_result",
          "data": {
            "text/plain": [
              "<keras.callbacks.History at 0x7f931e2cc4d0>"
            ]
          },
          "metadata": {
            "tags": []
          },
          "execution_count": 52
        }
      ]
    },
    {
      "cell_type": "code",
      "metadata": {
        "colab": {
          "base_uri": "https://localhost:8080/"
        },
        "id": "6tVOngvpg7R5",
        "outputId": "299d2094-e261-4b5e-d6f3-b23de96012ea"
      },
      "source": [
        "txt = [\"India Overtakes Russia As Third Worst-Hit Nation In COVID-19 Tally \"]\n",
        "seq = tokenizer.texts_to_sequences(txt)\n",
        "padded = pad_sequences(seq, maxlen=max_len)\n",
        "pred = model_lstm.predict(padded)\n",
        "labels = ['anger',' happiness','neutral',' sadness','worry']\n",
        "print(pred, labels[np.argmax(pred)])"
      ],
      "execution_count": 53,
      "outputs": [
        {
          "output_type": "stream",
          "text": [
            "[[6.7195608e-05 1.3772923e-01 2.5500989e-01 2.4744155e-01 3.5975212e-01]] worry\n"
          ],
          "name": "stdout"
        }
      ]
    },
    {
      "cell_type": "code",
      "metadata": {
        "colab": {
          "base_uri": "https://localhost:8080/"
        },
        "id": "Iw7IizyuhCks",
        "outputId": "8a40ebcf-a4fe-488a-bb8c-0eb54d699cd8"
      },
      "source": [
        "txt = [\"Won the lottery! yay!\"]\n",
        "seq = tokenizer.texts_to_sequences(txt)\n",
        "padded = pad_sequences(seq, maxlen=max_len)\n",
        "pred = model_lstm.predict(padded)\n",
        "labels = ['anger',' happiness','neutral',' sadness','worry']\n",
        "print(pred, labels[np.argmax(pred)])"
      ],
      "execution_count": 54,
      "outputs": [
        {
          "output_type": "stream",
          "text": [
            "[[0.00082181 0.57235074 0.19704863 0.07721471 0.15256411]]  happiness\n"
          ],
          "name": "stdout"
        }
      ]
    },
    {
      "cell_type": "code",
      "metadata": {
        "id": "XB05E8UahEZ8"
      },
      "source": [
        "fp = './saved_models/best_model.h5'\n",
        "save_model(model_lstm,fp,include_optimizer=True)"
      ],
      "execution_count": 55,
      "outputs": []
    },
    {
      "cell_type": "code",
      "metadata": {
        "colab": {
          "base_uri": "https://localhost:8080/",
          "height": 0
        },
        "id": "8BhwrcRUhG1Y",
        "outputId": "c740b079-8dfb-40e8-b476-88cfbdb97db7"
      },
      "source": [
        "from keras.utils.vis_utils import plot_model\n",
        "plot_model(model_lstm, to_file='model_plot.jpeg', show_shapes=True, show_layer_names=True)"
      ],
      "execution_count": 56,
      "outputs": [
        {
          "output_type": "execute_result",
          "data": {
            "image/jpeg": "[encoded data removed]",
            "text/plain": [
              "<IPython.core.display.Image object>"
            ]
          },
          "metadata": {
            "tags": []
          },
          "execution_count": 56
        }
      ]
    },
    {
      "cell_type": "code",
      "metadata": {
        "id": "LBFb_91YhKdj"
      },
      "source": [
        "def create_nn():\n",
        "  model = Sequential()\n",
        "  model.add(Embedding(vocab_size,300,weights=[embedding_matrix],input_length=max_len,trainable=False))\n",
        "  model.add(LSTM(128,dropout=0.5))\n",
        "  model.add(Dense(100,activation='relu'))\n",
        "  model.add(Dense(100,activation='relu'))\n",
        "  model.add(Dense(5,activation='softmax'))\n",
        "  model.compile(loss='categorical_crossentropy',optimizer='rmsprop',metrics=['accuracy'])\n",
        "\n",
        "  return model\n"
      ],
      "execution_count": 57,
      "outputs": []
    },
    {
      "cell_type": "code",
      "metadata": {
        "id": "PY38EIV-hM4M"
      },
      "source": [
        "from sklearn.preprocessing import LabelEncoder\n",
        "encoder = LabelEncoder()\n",
        "labels = encoder.fit_transform(df['sentiment'])\n",
        "labels = to_categorical(labels)"
      ],
      "execution_count": 58,
      "outputs": []
    },
    {
      "cell_type": "markdown",
      "metadata": {
        "id": "syjDWmcvb35S"
      },
      "source": [
        "### Evaluating neural network using three-fold cross-validation"
      ]
    },
    {
      "cell_type": "code",
      "metadata": {
        "colab": {
          "base_uri": "https://localhost:8080/"
        },
        "id": "_bBIQZ-3hO9V",
        "outputId": "3da62da0-85dc-47aa-a9f6-21fe656ac410"
      },
      "source": [
        "from sklearn.model_selection import cross_val_score\n",
        "from keras.wrappers.scikit_learn import KerasClassifier\n",
        "\n",
        "\n",
        "neural_network = KerasClassifier(build_fn=create_nn, \n",
        "                                 epochs=20,  \n",
        "                                 verbose=0)\n",
        "\n",
        "cross_val_score(neural_network,data, labels, cv=3)"
      ],
      "execution_count": 59,
      "outputs": [
        {
          "output_type": "execute_result",
          "data": {
            "text/plain": [
              "array([0.56025368, 0.5492233 , 0.55184776])"
            ]
          },
          "metadata": {
            "tags": []
          },
          "execution_count": 59
        }
      ]
    }
  ]
}